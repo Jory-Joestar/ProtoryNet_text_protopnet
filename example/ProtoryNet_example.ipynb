{
  "nbformat": 4,
  "nbformat_minor": 0,
  "metadata": {
    "colab": {
      "name": "ProtoryNet_example.ipynb",
      "provenance": [],
      "collapsed_sections": []
    },
    "kernelspec": {
      "name": "python3",
      "display_name": "Python 3"
    },
    "language_info": {
      "name": "python"
    },
    "accelerator": "GPU"
  },
  "cells": [
    {
      "cell_type": "code",
      "metadata": {
        "colab": {
          "base_uri": "https://localhost:8080/"
        },
        "id": "3e0RK6hBht6o",
        "outputId": "07abda5f-a32b-483d-e4de-8787ee38aea5"
      },
      "source": [
        "!pip install scikit-learn-extra"
      ],
      "execution_count": 1,
      "outputs": [
        {
          "output_type": "stream",
          "text": [
            "Requirement already satisfied: scikit-learn-extra in /usr/local/lib/python3.7/dist-packages (0.2.0)\n",
            "Requirement already satisfied: scipy>=0.19.1 in /usr/local/lib/python3.7/dist-packages (from scikit-learn-extra) (1.4.1)\n",
            "Requirement already satisfied: numpy>=1.13.3 in /usr/local/lib/python3.7/dist-packages (from scikit-learn-extra) (1.19.5)\n",
            "Requirement already satisfied: scikit-learn>=0.23.0 in /usr/local/lib/python3.7/dist-packages (from scikit-learn-extra) (0.24.2)\n",
            "Requirement already satisfied: joblib>=0.11 in /usr/local/lib/python3.7/dist-packages (from scikit-learn>=0.23.0->scikit-learn-extra) (1.0.1)\n",
            "Requirement already satisfied: threadpoolctl>=2.0.0 in /usr/local/lib/python3.7/dist-packages (from scikit-learn>=0.23.0->scikit-learn-extra) (2.2.0)\n"
          ],
          "name": "stdout"
        }
      ]
    },
    {
      "cell_type": "code",
      "metadata": {
        "id": "zBGXozxbfkDf"
      },
      "source": [
        "!pip install -q pyyaml h5py"
      ],
      "execution_count": 2,
      "outputs": []
    },
    {
      "cell_type": "code",
      "metadata": {
        "id": "KGU7rAmNfmjF"
      },
      "source": [
        "#import neccesary packages\n",
        "import tensorflow_hub as hub\n",
        "import tensorflow as tf\n",
        "import pickle\n",
        "from keras import backend as K\n",
        "import numpy as np\n",
        "from sklearn_extra.cluster import KMedoids\n",
        "from tensorflow import keras\n",
        "from tensorflow.keras.layers import Concatenate, Dense, Input, LSTM, Embedding, Dropout, Activation, GRU, Flatten\n",
        "from datetime import datetime\n",
        "from scipy.spatial import distance_matrix\n",
        "import sys"
      ],
      "execution_count": 3,
      "outputs": []
    },
    {
      "cell_type": "code",
      "metadata": {
        "id": "93YRvCsMfneI",
        "colab": {
          "base_uri": "https://localhost:8080/"
        },
        "outputId": "f2218242-7685-45f3-a64b-bbc09249f4a7"
      },
      "source": [
        "#mount your google drive here\n",
        "print(tf.__version__)\n",
        "from google.colab import drive \n",
        "drive.mount('/content/drive')"
      ],
      "execution_count": 4,
      "outputs": [
        {
          "output_type": "stream",
          "text": [
            "2.6.0\n",
            "Drive already mounted at /content/drive; to attempt to forcibly remount, call drive.mount(\"/content/drive\", force_remount=True).\n"
          ],
          "name": "stdout"
        }
      ]
    },
    {
      "cell_type": "markdown",
      "metadata": {
        "id": "6IkGwcJaN4f_"
      },
      "source": [
        "# Import datasets"
      ]
    },
    {
      "cell_type": "code",
      "metadata": {
        "id": "XqtOqokrfsBg"
      },
      "source": [
        "#directory of the datasets. Github provides these files in the form of pickle files\n",
        "#dir = \"../datasets/hotel/\"\n",
        "dir = \"./\"\n",
        "with open (dir + 'y_train', 'rb') as fp:\n",
        "    y_train = pickle.load(fp)\n",
        "\n",
        "with open (dir + 'train_not_clean', 'rb') as fp:\n",
        "    train_not_clean = pickle.load(fp)\n",
        "\n",
        "with open (dir + 'test_not_clean', 'rb') as fp:\n",
        "    test_not_clean = pickle.load(fp)\n",
        "\n",
        "with open (dir + 'y_test', 'rb') as fp:\n",
        "    y_test = pickle.load(fp)"
      ],
      "execution_count": 5,
      "outputs": []
    },
    {
      "cell_type": "code",
      "metadata": {
        "colab": {
          "base_uri": "https://localhost:8080/"
        },
        "id": "xdZhXzbERuDY",
        "outputId": "98297353-7216-405b-a002-db28a4c8c1c8"
      },
      "source": [
        "print(train_not_clean[:10])\n",
        "print(y_train[:10])"
      ],
      "execution_count": 6,
      "outputs": [
        {
          "output_type": "stream",
          "text": [
            "[\"RENT A STEAM CLEANER. The location is very, very inconvenient, but I am sure that is nothing they can help, it is just how the city has grown around their location. I would have rated the room as a 4 or 5 for clean if the sofa was not so disgusting. I literally covered it with a sheet just to sit on it. There was not one inch of surface that was not covered with a greasy/dirty stain. I would have switched rooms if I hadn't already unloaded all of my stuff in the rain before I turned on the lights to reveal the nasty sofa. Otherwise, the room was clean and comfortable. It would be worth a couple of hundred dollars to get a steam cleaner and clean the sofas in each room. Not to mention how unsanitary it is\", \"Great hotel and staff - recommend. I came in late after a long drive from Vegas ending in a whole lot of highway exits and concentration to get to Napa. I was greeted by a friendly night staff who was expecting me, and (not sure of his name) made me feel more relaxed immediately. I even got a little welcome pack with a snack and water. That was much appreciated.Breakfast was not included, fruit and granola bars were out in the lobby. A hotel discount was offered at the friendly Denny's next door. My room was quiet and all 3 of the morning staff were incredibly helpful the next morning helping me map out my day of driving, and helping me choose and book my next hotels. The hotel is a convienent location, not too far off the main highway. Near all services and malls if needed.We are glad you enjoyed your stay with us and look foward to seeing you on your next visit to the Napa Valley\", \"comfy place. We were greeted by the front desk when we arrived 3 hours prior to our check in. We were treated with respect. She guided us where we can have meals and stored our luggage. The rooms were given as early as it was ready. Loved that the room did not have carpets for allergy sufferers. Clean room. Close to Sea world and Old town. Loved the stay. Here at the Ramada Limited San Diego/Near SeaWorld, we love to accommodate. We're delighted that you got to experience the extraordinary hospitality of our team. As you noted, our location is perfect for taking in the sights of San Diego, and it is great to hear that you took advantage. Thank you for the five-star review, and we hope to see you again soon\", \"Unhappy Guest. Illegal activity going on the parking lot when we arrived. There was women standing next to motels doors waiting to be served or get served no working vending machines for a soft drink. Black mold growing in the ceiling of our room. The room stunk terribly. There were holes all in the walls and they were patched with thin metal plates. My husband stepped on something and come to find out, it was an extention cord running underneath the carpet, from the out side to the air conditioner inside. We wedged two chairs next to the door because it would not shut properly. The shower head was about to fall out. We felt gross even after a bath. We slept fully dressed because I didn't want any of body parts touching the bed\", 'Perfect family suite. Staff very friendly and informative, even before being asked. 2 room king suite exceeded expectations. Comfortable beds and plenty of linens at check in.Dear 57crystalcThank you for your kind words regarding your stay at the Hawthorn Suites Dallas Park Central. We were glad to have you as our guest, and appreciate you taking the time to comment regarding your visit with us. We look forward to the opportunity to host you again the next time you are in the Dallas area. Thanks again for being our guest. Best regards, Charlie Westhoven Operations Manager Hawthorn Suites Dallas Park Central', \"Great service and location. We were given a beautiful room overlooking Pike's Market and the Bay. Nice size rooms and wonderful bathroom. Staff was welcoming and remembered our names as we went in and out of hotel. Well located for all public transportation and restaurants. In the middle of all the best shopping. Walked everywhere or took public transportation wherever we needed to go.Thank you for taking the time to review the Grand Hyatt Seattle. Our hotel is perfect for the recreation or business travel and is conveniently located to public transportation and many Seattle attractions. I am pleased to hear that our location, guest rooms and friendly staff made your stay enjoyable. Lindye W.Guest Relations Manager\", 'I almost got sick when I saw the room. This is one of those things that I actually can semi laugh about at this time, but it sickens me still. I am very clean and neat as a pin. We needed a layover as we were moving items from our NY home to our NJ home. We had a rental truck booked and it was about 11:00 pm when. More', \"great holiday. Pluses: location, all suites Minuses: Rude and unhelpful staff, worst breakfast selection and coffee quality of any Embassy Suites I've ever stayed in\", \"Great Hyatt property, a little pricey. The hotel is great, the rooms have been updated. My TV came well appointed with a new LG LED TV that was probably 50 inches, a stand alone shower with a separate bath tube. The furniture and the room are well maintained, and the hotel itself has kept current with its decor. The hotel has a nice gym, pool, and all the other things that make a Grand Hyatt a Grand Hyatt. The valet was very quick with the car which is always fantastic. My only pet peeve is that there are a Starbucks and small shop attached to the property, but they do not take room charges. When you are connected to the hotel, in the hotel's actual building, you should take room charges\", \"Very nice old city vibe. Surrounded by new urban buildings, this hotel/motel is a diamond in the rough. The exterior is clean, quaint, and the grounds are lush with flowers and shrubs in the small space the hotel occupies. Our room was clean and bathroom has been updated with modern fixtures. The room, including the bathroom, is very small with little room to spread out. I wasn't impressed with the mattress. It seemed to be either old or poor quality.maybe both. The included breakfast wasn't fancy or abundant with choices but the quality of the items provided was very good. All in all this hotel is very clean and the employees we encountered were very nice. Price was right for location, quality, and amenities.Hi fadedbjulejeans,Our entire team would like to thank you for staying at our property. We apologized for not exceeding your expectations. We will use your reviews for us to improve on those areas. We hope you consider staying with us again\"]\n",
            "[1 1 1 0 1 1 0 0 1 1]\n"
          ],
          "name": "stdout"
        }
      ]
    },
    {
      "cell_type": "markdown",
      "metadata": {
        "id": "Xct3r6rdOLev"
      },
      "source": [
        "# Data preprocessing"
      ]
    },
    {
      "cell_type": "code",
      "metadata": {
        "id": "TEbpMg8ygFxV"
      },
      "source": [
        "#this method is to split the paragraphs into sentences\n",
        "def gen_sents(para):\n",
        "    res = []\n",
        "    for p in para:\n",
        "        sents = p.split(\".\")\n",
        "        res.append(sents)\n",
        "    return res\n",
        "\n",
        "\n",
        "train_noclean_sents = gen_sents(train_not_clean)\n",
        "test_noclean_sents = gen_sents(test_not_clean)"
      ],
      "execution_count": 7,
      "outputs": []
    },
    {
      "cell_type": "code",
      "metadata": {
        "colab": {
          "base_uri": "https://localhost:8080/"
        },
        "id": "nNM0Ud6CjIUw",
        "outputId": "5baca1a5-5c70-44f6-dd78-c8a4a6582cec"
      },
      "source": [
        "x_train = train_noclean_sents\n",
        "x_test = test_noclean_sents\n",
        "\n",
        "#optional: just to make sure the label values are integers\n",
        "y_train = [int(y) for y in y_train]\n",
        "y_test = [int(y) for y in y_test]\n",
        "\n",
        "\n",
        "print('test_noclean_sents ', len(test_noclean_sents), len(test_noclean_sents[0]), test_noclean_sents[0])\n",
        "print('y_train: ', y_train[:10])\n",
        "print('y_test: ', y_test[:10])"
      ],
      "execution_count": 8,
      "outputs": [
        {
          "output_type": "stream",
          "text": [
            "test_noclean_sents  902 7 ['Share your room with roach or bug', ' Roach in the room but the staff said its just a bug not a roach, like that made it any better', ' Big hole in the bathroom wall were this bug/roach came out of', ' Wonder what other rodent will come out of the wall', 'Thank you for providing us with your feedback', ' I would like to apologize for any of the inconveniences you may have experienced during your time with us', ' I wish that I had been notified of your concerns before you had checked out and I would like to apologize on behalf of our staff']\n",
            "y_train:  [1, 1, 1, 0, 1, 1, 0, 0, 1, 1]\n",
            "y_test:  [0, 0, 1, 1, 0, 1, 0, 0, 0, 1]\n"
          ],
          "name": "stdout"
        }
      ]
    },
    {
      "cell_type": "code",
      "metadata": {
        "colab": {
          "base_uri": "https://localhost:8080/"
        },
        "id": "V7J7G3engGRo",
        "outputId": "15d4cc81-6677-483a-850f-5ffe4713194e"
      },
      "source": [
        "#import Google Sentence encoder, to convert sentences into vector values\n",
        "module_url = \"https://tfhub.dev/google/universal-sentence-encoder/4\"\n",
        "model = hub.load(module_url)\n",
        "print(\"module %s loaded\" % module_url)\n",
        "\n",
        "def embed(input):\n",
        "    return model(input)"
      ],
      "execution_count": 9,
      "outputs": [
        {
          "output_type": "stream",
          "text": [
            "module https://tfhub.dev/google/universal-sentence-encoder/4 loaded\n"
          ],
          "name": "stdout"
        }
      ]
    },
    {
      "cell_type": "code",
      "metadata": {
        "colab": {
          "base_uri": "https://localhost:8080/"
        },
        "id": "RAkea6lngHvA",
        "outputId": "b9ecdcaf-27d6-4c40-ba4c-83480e7e489d"
      },
      "source": [
        "#sampling training data (sentences)\n",
        "sample_sentences = []\n",
        "#choose with data to sample\n",
        "for p in train_noclean_sents[:1000]:\n",
        "    sample_sentences.extend(p)\n",
        "\n",
        "#compute vector values of sentences\n",
        "sample_sent_vect = embed(sample_sentences)\n",
        "print(sample_sent_vect)"
      ],
      "execution_count": 10,
      "outputs": [
        {
          "output_type": "stream",
          "text": [
            "tf.Tensor(\n",
            "[[-0.02057868 -0.02088437  0.04719457 ... -0.05737035  0.0809434\n",
            "   0.03041554]\n",
            " [ 0.00906795 -0.03493962 -0.02079896 ... -0.04224585  0.03169224\n",
            "   0.0206266 ]\n",
            " [-0.05278953  0.00524478 -0.04006644 ... -0.05303752  0.07519065\n",
            "  -0.00645197]\n",
            " ...\n",
            " [-0.01198283 -0.03123995 -0.04763543 ... -0.02125541 -0.00142226\n",
            "   0.0453642 ]\n",
            " [ 0.001819   -0.06974981 -0.0585594  ...  0.03950792  0.06799415\n",
            "   0.08365905]\n",
            " [-0.0730544  -0.02952773  0.03002902 ... -0.05277651  0.01056046\n",
            "   0.04155547]], shape=(11747, 512), dtype=float32)\n"
          ],
          "name": "stdout"
        }
      ]
    },
    {
      "cell_type": "markdown",
      "metadata": {
        "id": "aWP5cKX6OQtu"
      },
      "source": [
        "# Prototype initialization"
      ]
    },
    {
      "cell_type": "code",
      "metadata": {
        "colab": {
          "base_uri": "https://localhost:8080/"
        },
        "id": "-72NuWCJgKbf",
        "outputId": "5a2455d2-8464-4704-e059-3851f1a7938b"
      },
      "source": [
        "k_protos, vect_size = 10, 512\n",
        "kmedoids = KMedoids(n_clusters=k_protos, random_state=0).fit(sample_sent_vect)\n",
        "k_cents = kmedoids.cluster_centers_\n",
        "print(k_cents.shape)"
      ],
      "execution_count": 11,
      "outputs": [
        {
          "output_type": "stream",
          "text": [
            "(10, 512)\n"
          ],
          "name": "stdout"
        }
      ]
    },
    {
      "cell_type": "markdown",
      "metadata": {
        "id": "KI9aT_tZOY3Q"
      },
      "source": [
        "# Model training and testing"
      ]
    },
    {
      "cell_type": "code",
      "metadata": {
        "id": "SRJ5ui5jg_ui"
      },
      "source": [
        "#import protoryNet, we recommend you download the protoryNet.py file from Github to have the most updated version\n",
        "from protoryNet import ProtoryNet"
      ],
      "execution_count": 12,
      "outputs": []
    },
    {
      "cell_type": "code",
      "metadata": {
        "id": "8NNK6ORKhtRV"
      },
      "source": [
        "pNet = ProtoryNet() "
      ],
      "execution_count": 13,
      "outputs": []
    },
    {
      "cell_type": "code",
      "metadata": {
        "colab": {
          "base_uri": "https://localhost:8080/"
        },
        "id": "LOQ5g8igi7HW",
        "outputId": "9e2f8464-a0a4-47f4-f492-fb0ea7af5440"
      },
      "source": [
        "model = pNet.createModel(k_cents)"
      ],
      "execution_count": 14,
      "outputs": [
        {
          "output_type": "stream",
          "text": [
            "[db] model.input =  KerasTensor(type_spec=TensorSpec(shape=(None,), dtype=tf.string, name='input_1'), name='input_1', description=\"created by layer 'input_1'\")\n",
            "[db] protoLayerName =  proto_layer\n",
            "[db] protoLayer =  <protoryNet.ProtoryNet.createModel.<locals>.prototypeLayer object at 0x7f19f9dc2610>\n",
            "[db] protoLayer.output =  (<KerasTensor: shape=(None, None, 10) dtype=float32 (created by layer 'proto_layer')>, <KerasTensor: shape=(10, 512) dtype=float32 (created by layer 'proto_layer')>)\n",
            "[db] distanceLayer.output =  KerasTensor(type_spec=TensorSpec(shape=(None, None, 10), dtype=tf.float32, name=None), name='distance_layer/PartitionedCall:0', description=\"created by layer 'distance_layer'\")\n",
            "Model: \"custom_model\"\n",
            "_________________________________________________________________\n",
            "Layer (type)                 Output Shape              Param #   \n",
            "=================================================================\n",
            "input_1 (InputLayer)         [(None,)]                 0         \n",
            "_________________________________________________________________\n",
            "keras_layer (KerasLayer)     (None, 512)               256797824 \n",
            "_________________________________________________________________\n",
            "tf.expand_dims (TFOpLambda)  (1, None, 512)            0         \n",
            "_________________________________________________________________\n",
            "proto_layer (prototypeLayer) ((None, None, 10), (10, 5 5120      \n",
            "_________________________________________________________________\n",
            "distance_layer (distanceLaye (None, None, 10)          0         \n",
            "_________________________________________________________________\n",
            "lstm (LSTM)                  [(None, None, 128), (None 71168     \n",
            "_________________________________________________________________\n",
            "tf.__operators__.getitem (Sl (None, 128)               0         \n",
            "_________________________________________________________________\n",
            "dense (Dense)                (None, 1)                 129       \n",
            "_________________________________________________________________\n",
            "tf.compat.v1.squeeze (TFOpLa (1,)                      0         \n",
            "_________________________________________________________________\n",
            "model (Functional)           ((None, None, 10), (10, 5 256802944 \n",
            "_________________________________________________________________\n",
            "model_1 (Functional)         (None, None, 10)          256802944 \n",
            "=================================================================\n",
            "Total params: 256,874,241\n",
            "Trainable params: 256,874,241\n",
            "Non-trainable params: 0\n",
            "_________________________________________________________________\n"
          ],
          "name": "stdout"
        }
      ]
    },
    {
      "cell_type": "code",
      "metadata": {
        "colab": {
          "base_uri": "https://localhost:8080/",
          "height": 1000
        },
        "id": "8kiIGwFTqGEZ",
        "outputId": "046f5765-17fc-4619-8dab-6cb0598c0182"
      },
      "source": [
        "pNet.train(x_train,y_train,x_test,y_test)"
      ],
      "execution_count": 15,
      "outputs": [
        {
          "output_type": "stream",
          "text": [
            "Epoch  0\n",
            "i =   0\n",
            "1/1 [==============================] - 14s 14s/step - loss: 0.7004\n",
            "Evaluating y_pred, y  [0.4889834] 0 0\n",
            "Evaluating y_pred, y  [0.48898146] 0 1\n",
            "Evaluate on valid set:  0.42017738359201773\n",
            "This is the best eval res, saving the model...\n",
            "saving model now = 2021-08-23 11:48:34.335129\n",
            "date and time = 23_08_2021_11_48_34\n",
            "just saved\n",
            "i =   50\n",
            "1/1 [==============================] - 0s 218ms/step - loss: 0.6529\n",
            "i =   100\n",
            "1/1 [==============================] - 0s 221ms/step - loss: 0.7873\n",
            "i =   150\n",
            "1/1 [==============================] - 0s 222ms/step - loss: 0.6065\n",
            "i =   200\n",
            "1/1 [==============================] - 0s 216ms/step - loss: 0.8340\n",
            "Evaluating y_pred, y  [0.5535297] 1 0\n",
            "Evaluating y_pred, y  [0.6039297] 1 1\n",
            "Evaluate on valid set:  0.5210643015521065\n",
            "This is the best eval res, saving the model...\n",
            "saving model now = 2021-08-23 11:51:33.419058\n",
            "date and time = 23_08_2021_11_51_33\n",
            "just saved\n",
            "i =   250\n",
            "1/1 [==============================] - 0s 222ms/step - loss: 1.0013\n",
            "i =   300\n",
            "1/1 [==============================] - 0s 226ms/step - loss: 0.5500\n",
            "i =   350\n",
            "1/1 [==============================] - 0s 218ms/step - loss: 0.0515\n",
            "i =   400\n",
            "1/1 [==============================] - 0s 224ms/step - loss: 1.6415\n",
            "Evaluating y_pred, y  [0.35251328] 0 0\n",
            "Evaluating y_pred, y  [0.832824] 1 1\n",
            "Evaluate on valid set:  0.8835920177383592\n",
            "This is the best eval res, saving the model...\n",
            "saving model now = 2021-08-23 11:54:26.186357\n",
            "date and time = 23_08_2021_11_54_26\n",
            "just saved\n",
            "i =   450\n",
            "1/1 [==============================] - 0s 219ms/step - loss: 0.3472\n",
            "i =   500\n",
            "1/1 [==============================] - 0s 218ms/step - loss: 0.9202\n",
            "i =   550\n",
            "1/1 [==============================] - 0s 220ms/step - loss: 0.2087\n",
            "i =   600\n",
            "1/1 [==============================] - 0s 218ms/step - loss: 0.4022\n",
            "Evaluating y_pred, y  [0.29718336] 0 0\n",
            "Evaluating y_pred, y  [0.88585794] 1 1\n",
            "Evaluate on valid set:  0.8913525498891353\n",
            "This is the best eval res, saving the model...\n",
            "saving model now = 2021-08-23 11:57:22.304625\n",
            "date and time = 23_08_2021_11_57_22\n",
            "just saved\n",
            "i =   650\n",
            "1/1 [==============================] - 0s 226ms/step - loss: 0.1050\n",
            "i =   700\n",
            "1/1 [==============================] - 0s 221ms/step - loss: 0.4128\n",
            "i =   750\n",
            "2/2 [==============================] - 0s 227ms/step - loss: 0.4583\n",
            "i =   800\n",
            "1/1 [==============================] - 0s 228ms/step - loss: 0.1124\n",
            "Evaluating y_pred, y  [0.20971936] 0 0\n",
            "Evaluating y_pred, y  [0.9593037] 1 1\n",
            "Evaluate on valid set:  0.8991130820399114\n",
            "This is the best eval res, saving the model...\n",
            "saving model now = 2021-08-23 12:00:14.381793\n",
            "date and time = 23_08_2021_12_00_14\n",
            "just saved\n",
            "i =   850\n",
            "1/1 [==============================] - 0s 219ms/step - loss: 0.0251\n",
            "i =   900\n",
            "1/1 [==============================] - 0s 223ms/step - loss: 0.5757\n",
            "i =   950\n",
            "1/1 [==============================] - 0s 222ms/step - loss: 0.1529\n",
            "i =   1000\n",
            "1/1 [==============================] - 0s 222ms/step - loss: 0.3484\n",
            "Evaluating y_pred, y  [0.16791414] 0 0\n",
            "Evaluating y_pred, y  [0.95655376] 1 1\n",
            "Evaluate on valid set:  0.9057649667405765\n",
            "This is the best eval res, saving the model...\n",
            "saving model now = 2021-08-23 12:03:08.870955\n",
            "date and time = 23_08_2021_12_03_08\n",
            "just saved\n",
            "i =   1050\n",
            "1/1 [==============================] - 0s 222ms/step - loss: 0.0434\n",
            "i =   1100\n",
            "1/1 [==============================] - 0s 220ms/step - loss: 1.7685\n",
            "i =   1150\n",
            "1/1 [==============================] - 0s 223ms/step - loss: 0.1854\n",
            "i =   1200\n",
            "1/1 [==============================] - 0s 218ms/step - loss: 2.2545\n",
            "Evaluating y_pred, y  [0.16783537] 0 0\n",
            "Evaluating y_pred, y  [0.9639285] 1 1\n",
            "Evaluate on valid set:  0.9157427937915743\n",
            "This is the best eval res, saving the model...\n",
            "saving model now = 2021-08-23 12:06:05.022982\n",
            "date and time = 23_08_2021_12_06_05\n",
            "just saved\n",
            "i =   1250\n",
            "1/1 [==============================] - 0s 220ms/step - loss: 0.2197\n",
            "i =   1300\n",
            "1/1 [==============================] - 0s 225ms/step - loss: 1.0355\n",
            "i =   1350\n",
            "1/1 [==============================] - 0s 220ms/step - loss: 0.0376\n",
            "i =   1400\n",
            "1/1 [==============================] - 0s 221ms/step - loss: 0.0135\n",
            "Evaluating y_pred, y  [0.08140986] 0 0\n",
            "Evaluating y_pred, y  [0.97986674] 1 1\n",
            "Evaluate on valid set:  0.9068736141906873\n",
            "i =   1450\n",
            "1/1 [==============================] - 0s 222ms/step - loss: 0.0839\n",
            "i =   1500\n",
            "1/1 [==============================] - 0s 227ms/step - loss: 0.9096\n",
            "i =   1550\n",
            "1/1 [==============================] - 0s 220ms/step - loss: 0.1099\n",
            "i =   1600\n",
            "1/1 [==============================] - 0s 224ms/step - loss: 0.0409\n",
            "Evaluating y_pred, y  [0.08998405] 0 0\n",
            "Evaluating y_pred, y  [0.9872141] 1 1\n",
            "Evaluate on valid set:  0.9246119733924612\n",
            "This is the best eval res, saving the model...\n",
            "saving model now = 2021-08-23 12:11:08.716949\n",
            "date and time = 23_08_2021_12_11_08\n",
            "just saved\n",
            "i =   1650\n",
            "1/1 [==============================] - 0s 224ms/step - loss: 0.5560\n",
            "i =   1700\n",
            "1/1 [==============================] - 0s 221ms/step - loss: 3.4244\n",
            "i =   1750\n",
            "1/1 [==============================] - 0s 222ms/step - loss: 0.0076\n",
            "i =   1800\n",
            "1/1 [==============================] - 0s 223ms/step - loss: 0.0064\n",
            "Evaluating y_pred, y  [0.05262116] 0 0\n",
            "Evaluating y_pred, y  [0.9930534] 1 1\n",
            "Evaluate on valid set:  0.9301552106430155\n",
            "This is the best eval res, saving the model...\n",
            "saving model now = 2021-08-23 12:14:02.738090\n",
            "date and time = 23_08_2021_12_14_02\n",
            "just saved\n",
            "i =   1850\n",
            "1/1 [==============================] - 0s 232ms/step - loss: 0.3153\n",
            "i =   1900\n",
            "1/1 [==============================] - 0s 221ms/step - loss: 0.3266\n",
            "i =   1950\n",
            "1/1 [==============================] - 0s 227ms/step - loss: 0.0745\n",
            "i =   2000\n",
            "1/1 [==============================] - 0s 225ms/step - loss: 0.0107\n",
            "Evaluating y_pred, y  [0.05778588] 0 0\n",
            "Evaluating y_pred, y  [0.9912849] 1 1\n",
            "Evaluate on valid set:  0.9290465631929047\n",
            "i =   2050\n",
            "1/1 [==============================] - 0s 219ms/step - loss: 0.6144\n",
            "i =   2100\n",
            "1/1 [==============================] - 0s 225ms/step - loss: 0.0338\n",
            "i =   2150\n",
            "1/1 [==============================] - 0s 221ms/step - loss: 0.2464\n",
            "i =   2200\n",
            "1/1 [==============================] - 0s 225ms/step - loss: 0.0079\n",
            "Evaluating y_pred, y  [0.05052585] 0 0\n",
            "Evaluating y_pred, y  [0.99361306] 1 1\n",
            "Evaluate on valid set:  0.9301552106430155\n",
            "i =   2250\n",
            "1/1 [==============================] - 0s 223ms/step - loss: 0.0092\n",
            "i =   2300\n",
            "1/1 [==============================] - 0s 226ms/step - loss: 0.0334\n",
            "i =   2350\n",
            "1/1 [==============================] - 0s 228ms/step - loss: 0.2392\n",
            "i =   2400\n",
            "1/1 [==============================] - 0s 223ms/step - loss: 0.0098\n",
            "Evaluating y_pred, y  [0.07904818] 0 0\n",
            "Evaluating y_pred, y  [0.99112004] 1 1\n",
            "Evaluate on valid set:  0.9290465631929047\n",
            "i =   2450\n",
            "1/1 [==============================] - 0s 221ms/step - loss: 0.3683\n",
            "i =   2500\n",
            "1/1 [==============================] - 0s 221ms/step - loss: 0.0071\n",
            "i =   2550\n",
            "1/1 [==============================] - 0s 220ms/step - loss: 0.0089\n",
            "i =   2600\n",
            "1/1 [==============================] - 0s 222ms/step - loss: 0.1712\n",
            "Evaluating y_pred, y  [0.03221413] 0 0\n",
            "Evaluating y_pred, y  [0.99364436] 1 1\n",
            "Evaluate on valid set:  0.9223946784922394\n",
            "i =   2650\n",
            "1/1 [==============================] - 0s 214ms/step - loss: 0.4381\n",
            "i =   2700\n",
            "1/1 [==============================] - 0s 218ms/step - loss: 0.0315\n",
            "i =   2750\n",
            "1/1 [==============================] - 0s 218ms/step - loss: 0.0396\n",
            "i =   2800\n",
            "1/1 [==============================] - 0s 219ms/step - loss: 0.0702\n",
            "Evaluating y_pred, y  [0.04435775] 0 0\n"
          ],
          "name": "stdout"
        },
        {
          "output_type": "error",
          "ename": "KeyboardInterrupt",
          "evalue": "ignored",
          "traceback": [
            "\u001b[0;31m---------------------------------------------------------------------------\u001b[0m",
            "\u001b[0;31mKeyboardInterrupt\u001b[0m                         Traceback (most recent call last)",
            "\u001b[0;32m<ipython-input-15-f5fc0eaa5da6>\u001b[0m in \u001b[0;36m<module>\u001b[0;34m()\u001b[0m\n\u001b[0;32m----> 1\u001b[0;31m \u001b[0mpNet\u001b[0m\u001b[0;34m.\u001b[0m\u001b[0mtrain\u001b[0m\u001b[0;34m(\u001b[0m\u001b[0mx_train\u001b[0m\u001b[0;34m,\u001b[0m\u001b[0my_train\u001b[0m\u001b[0;34m,\u001b[0m\u001b[0mx_test\u001b[0m\u001b[0;34m,\u001b[0m\u001b[0my_test\u001b[0m\u001b[0;34m)\u001b[0m\u001b[0;34m\u001b[0m\u001b[0;34m\u001b[0m\u001b[0m\n\u001b[0m",
            "\u001b[0;32m/content/protoryNet.py\u001b[0m in \u001b[0;36mtrain\u001b[0;34m(self, x_train, y_train, x_test, y_test)\u001b[0m\n\u001b[1;32m    207\u001b[0m                 \u001b[0;31m#Evaluate after every 200 iteration\u001b[0m\u001b[0;34m\u001b[0m\u001b[0;34m\u001b[0m\u001b[0;34m\u001b[0m\u001b[0m\n\u001b[1;32m    208\u001b[0m                 \u001b[0;32mif\u001b[0m \u001b[0mi\u001b[0m \u001b[0;34m%\u001b[0m \u001b[0;36m200\u001b[0m \u001b[0;34m==\u001b[0m \u001b[0;36m0\u001b[0m\u001b[0;34m:\u001b[0m\u001b[0;34m\u001b[0m\u001b[0;34m\u001b[0m\u001b[0m\n\u001b[0;32m--> 209\u001b[0;31m                     \u001b[0my_preds\u001b[0m\u001b[0;34m,\u001b[0m \u001b[0mscore\u001b[0m \u001b[0;34m=\u001b[0m \u001b[0mself\u001b[0m\u001b[0;34m.\u001b[0m\u001b[0mevaluate\u001b[0m\u001b[0;34m(\u001b[0m\u001b[0mx_test\u001b[0m\u001b[0;34m,\u001b[0m \u001b[0my_test\u001b[0m\u001b[0;34m)\u001b[0m\u001b[0;34m\u001b[0m\u001b[0;34m\u001b[0m\u001b[0m\n\u001b[0m\u001b[1;32m    210\u001b[0m                     \u001b[0mprint\u001b[0m\u001b[0;34m(\u001b[0m\u001b[0;34m\"Evaluate on valid set: \"\u001b[0m\u001b[0;34m,\u001b[0m \u001b[0mscore\u001b[0m\u001b[0;34m)\u001b[0m\u001b[0;34m\u001b[0m\u001b[0;34m\u001b[0m\u001b[0m\n\u001b[1;32m    211\u001b[0m                     \u001b[0;32mif\u001b[0m \u001b[0mscore\u001b[0m \u001b[0;34m>\u001b[0m \u001b[0mmaxEvalRes\u001b[0m\u001b[0;34m:\u001b[0m\u001b[0;34m\u001b[0m\u001b[0;34m\u001b[0m\u001b[0m\n",
            "\u001b[0;32m/content/protoryNet.py\u001b[0m in \u001b[0;36mevaluate\u001b[0;34m(self, x_valid, y)\u001b[0m\n\u001b[1;32m    167\u001b[0m         \u001b[0my_preds\u001b[0m \u001b[0;34m=\u001b[0m \u001b[0;34m[\u001b[0m\u001b[0;34m]\u001b[0m\u001b[0;34m\u001b[0m\u001b[0;34m\u001b[0m\u001b[0m\n\u001b[1;32m    168\u001b[0m         \u001b[0;32mfor\u001b[0m \u001b[0mx\u001b[0m\u001b[0;34m,\u001b[0m \u001b[0my\u001b[0m \u001b[0;32min\u001b[0m \u001b[0mzip\u001b[0m\u001b[0;34m(\u001b[0m\u001b[0mx_valid\u001b[0m\u001b[0;34m,\u001b[0m \u001b[0my\u001b[0m\u001b[0;34m)\u001b[0m\u001b[0;34m:\u001b[0m\u001b[0;34m\u001b[0m\u001b[0;34m\u001b[0m\u001b[0m\n\u001b[0;32m--> 169\u001b[0;31m             \u001b[0my_pred\u001b[0m \u001b[0;34m=\u001b[0m \u001b[0mself\u001b[0m\u001b[0;34m.\u001b[0m\u001b[0mmodel\u001b[0m\u001b[0;34m.\u001b[0m\u001b[0mpredict\u001b[0m\u001b[0;34m(\u001b[0m\u001b[0mx\u001b[0m\u001b[0;34m)\u001b[0m\u001b[0;34m\u001b[0m\u001b[0;34m\u001b[0m\u001b[0m\n\u001b[0m\u001b[1;32m    170\u001b[0m             \u001b[0my_preds\u001b[0m\u001b[0;34m.\u001b[0m\u001b[0mappend\u001b[0m\u001b[0;34m(\u001b[0m\u001b[0my_pred\u001b[0m\u001b[0;34m)\u001b[0m\u001b[0;34m\u001b[0m\u001b[0;34m\u001b[0m\u001b[0m\n\u001b[1;32m    171\u001b[0m             \u001b[0;32mif\u001b[0m \u001b[0mcount\u001b[0m \u001b[0;34m%\u001b[0m \u001b[0;36m500\u001b[0m \u001b[0;34m==\u001b[0m \u001b[0;36m0\u001b[0m\u001b[0;34m:\u001b[0m\u001b[0;34m\u001b[0m\u001b[0;34m\u001b[0m\u001b[0m\n",
            "\u001b[0;32m/usr/local/lib/python3.7/dist-packages/keras/engine/training.py\u001b[0m in \u001b[0;36mpredict\u001b[0;34m(self, x, batch_size, verbose, steps, callbacks, max_queue_size, workers, use_multiprocessing)\u001b[0m\n\u001b[1;32m   1745\u001b[0m       \u001b[0mcallbacks\u001b[0m\u001b[0;34m.\u001b[0m\u001b[0mon_predict_begin\u001b[0m\u001b[0;34m(\u001b[0m\u001b[0;34m)\u001b[0m\u001b[0;34m\u001b[0m\u001b[0;34m\u001b[0m\u001b[0m\n\u001b[1;32m   1746\u001b[0m       \u001b[0mbatch_outputs\u001b[0m \u001b[0;34m=\u001b[0m \u001b[0;32mNone\u001b[0m\u001b[0;34m\u001b[0m\u001b[0;34m\u001b[0m\u001b[0m\n\u001b[0;32m-> 1747\u001b[0;31m       \u001b[0;32mfor\u001b[0m \u001b[0m_\u001b[0m\u001b[0;34m,\u001b[0m \u001b[0miterator\u001b[0m \u001b[0;32min\u001b[0m \u001b[0mdata_handler\u001b[0m\u001b[0;34m.\u001b[0m\u001b[0menumerate_epochs\u001b[0m\u001b[0;34m(\u001b[0m\u001b[0;34m)\u001b[0m\u001b[0;34m:\u001b[0m  \u001b[0;31m# Single epoch.\u001b[0m\u001b[0;34m\u001b[0m\u001b[0;34m\u001b[0m\u001b[0m\n\u001b[0m\u001b[1;32m   1748\u001b[0m         \u001b[0;32mwith\u001b[0m \u001b[0mdata_handler\u001b[0m\u001b[0;34m.\u001b[0m\u001b[0mcatch_stop_iteration\u001b[0m\u001b[0;34m(\u001b[0m\u001b[0;34m)\u001b[0m\u001b[0;34m:\u001b[0m\u001b[0;34m\u001b[0m\u001b[0;34m\u001b[0m\u001b[0m\n\u001b[1;32m   1749\u001b[0m           \u001b[0;32mfor\u001b[0m \u001b[0mstep\u001b[0m \u001b[0;32min\u001b[0m \u001b[0mdata_handler\u001b[0m\u001b[0;34m.\u001b[0m\u001b[0msteps\u001b[0m\u001b[0;34m(\u001b[0m\u001b[0;34m)\u001b[0m\u001b[0;34m:\u001b[0m\u001b[0;34m\u001b[0m\u001b[0;34m\u001b[0m\u001b[0m\n",
            "\u001b[0;32m/usr/local/lib/python3.7/dist-packages/keras/engine/data_adapter.py\u001b[0m in \u001b[0;36menumerate_epochs\u001b[0;34m(self)\u001b[0m\n\u001b[1;32m   1183\u001b[0m           \u001b[0;32mbreak\u001b[0m\u001b[0;34m\u001b[0m\u001b[0;34m\u001b[0m\u001b[0m\n\u001b[1;32m   1184\u001b[0m         \u001b[0;32mif\u001b[0m \u001b[0mself\u001b[0m\u001b[0;34m.\u001b[0m\u001b[0m_adapter\u001b[0m\u001b[0;34m.\u001b[0m\u001b[0mshould_recreate_iterator\u001b[0m\u001b[0;34m(\u001b[0m\u001b[0;34m)\u001b[0m\u001b[0;34m:\u001b[0m\u001b[0;34m\u001b[0m\u001b[0;34m\u001b[0m\u001b[0m\n\u001b[0;32m-> 1185\u001b[0;31m           \u001b[0mdata_iterator\u001b[0m \u001b[0;34m=\u001b[0m \u001b[0miter\u001b[0m\u001b[0;34m(\u001b[0m\u001b[0mself\u001b[0m\u001b[0;34m.\u001b[0m\u001b[0m_dataset\u001b[0m\u001b[0;34m)\u001b[0m\u001b[0;34m\u001b[0m\u001b[0;34m\u001b[0m\u001b[0m\n\u001b[0m\u001b[1;32m   1186\u001b[0m         \u001b[0;32myield\u001b[0m \u001b[0mepoch\u001b[0m\u001b[0;34m,\u001b[0m \u001b[0mdata_iterator\u001b[0m\u001b[0;34m\u001b[0m\u001b[0;34m\u001b[0m\u001b[0m\n\u001b[1;32m   1187\u001b[0m         \u001b[0mself\u001b[0m\u001b[0;34m.\u001b[0m\u001b[0m_adapter\u001b[0m\u001b[0;34m.\u001b[0m\u001b[0mon_epoch_end\u001b[0m\u001b[0;34m(\u001b[0m\u001b[0;34m)\u001b[0m\u001b[0;34m\u001b[0m\u001b[0;34m\u001b[0m\u001b[0m\n",
            "\u001b[0;32m/usr/local/lib/python3.7/dist-packages/tensorflow/python/data/ops/dataset_ops.py\u001b[0m in \u001b[0;36m__iter__\u001b[0;34m(self)\u001b[0m\n\u001b[1;32m    409\u001b[0m     \u001b[0;32mif\u001b[0m \u001b[0mcontext\u001b[0m\u001b[0;34m.\u001b[0m\u001b[0mexecuting_eagerly\u001b[0m\u001b[0;34m(\u001b[0m\u001b[0;34m)\u001b[0m \u001b[0;32mor\u001b[0m \u001b[0mops\u001b[0m\u001b[0;34m.\u001b[0m\u001b[0minside_function\u001b[0m\u001b[0;34m(\u001b[0m\u001b[0;34m)\u001b[0m\u001b[0;34m:\u001b[0m\u001b[0;34m\u001b[0m\u001b[0;34m\u001b[0m\u001b[0m\n\u001b[1;32m    410\u001b[0m       \u001b[0;32mwith\u001b[0m \u001b[0mops\u001b[0m\u001b[0;34m.\u001b[0m\u001b[0mcolocate_with\u001b[0m\u001b[0;34m(\u001b[0m\u001b[0mself\u001b[0m\u001b[0;34m.\u001b[0m\u001b[0m_variant_tensor\u001b[0m\u001b[0;34m)\u001b[0m\u001b[0;34m:\u001b[0m\u001b[0;34m\u001b[0m\u001b[0;34m\u001b[0m\u001b[0m\n\u001b[0;32m--> 411\u001b[0;31m         \u001b[0;32mreturn\u001b[0m \u001b[0miterator_ops\u001b[0m\u001b[0;34m.\u001b[0m\u001b[0mOwnedIterator\u001b[0m\u001b[0;34m(\u001b[0m\u001b[0mself\u001b[0m\u001b[0;34m)\u001b[0m\u001b[0;34m\u001b[0m\u001b[0;34m\u001b[0m\u001b[0m\n\u001b[0m\u001b[1;32m    412\u001b[0m     \u001b[0;32melse\u001b[0m\u001b[0;34m:\u001b[0m\u001b[0;34m\u001b[0m\u001b[0;34m\u001b[0m\u001b[0m\n\u001b[1;32m    413\u001b[0m       raise RuntimeError(\"__iter__() is only supported inside of tf.function \"\n",
            "\u001b[0;32m/usr/local/lib/python3.7/dist-packages/tensorflow/python/data/ops/iterator_ops.py\u001b[0m in \u001b[0;36m__init__\u001b[0;34m(self, dataset, components, element_spec)\u001b[0m\n\u001b[1;32m    694\u001b[0m       \u001b[0;32mif\u001b[0m \u001b[0;34m(\u001b[0m\u001b[0mcomponents\u001b[0m \u001b[0;32mis\u001b[0m \u001b[0;32mnot\u001b[0m \u001b[0;32mNone\u001b[0m \u001b[0;32mor\u001b[0m \u001b[0melement_spec\u001b[0m \u001b[0;32mis\u001b[0m \u001b[0;32mnot\u001b[0m \u001b[0;32mNone\u001b[0m\u001b[0;34m)\u001b[0m\u001b[0;34m:\u001b[0m\u001b[0;34m\u001b[0m\u001b[0;34m\u001b[0m\u001b[0m\n\u001b[1;32m    695\u001b[0m         \u001b[0;32mraise\u001b[0m \u001b[0mValueError\u001b[0m\u001b[0;34m(\u001b[0m\u001b[0merror_message\u001b[0m\u001b[0;34m)\u001b[0m\u001b[0;34m\u001b[0m\u001b[0;34m\u001b[0m\u001b[0m\n\u001b[0;32m--> 696\u001b[0;31m       \u001b[0mself\u001b[0m\u001b[0;34m.\u001b[0m\u001b[0m_create_iterator\u001b[0m\u001b[0;34m(\u001b[0m\u001b[0mdataset\u001b[0m\u001b[0;34m)\u001b[0m\u001b[0;34m\u001b[0m\u001b[0;34m\u001b[0m\u001b[0m\n\u001b[0m\u001b[1;32m    697\u001b[0m \u001b[0;34m\u001b[0m\u001b[0m\n\u001b[1;32m    698\u001b[0m   \u001b[0;32mdef\u001b[0m \u001b[0m_create_iterator\u001b[0m\u001b[0;34m(\u001b[0m\u001b[0mself\u001b[0m\u001b[0;34m,\u001b[0m \u001b[0mdataset\u001b[0m\u001b[0;34m)\u001b[0m\u001b[0;34m:\u001b[0m\u001b[0;34m\u001b[0m\u001b[0;34m\u001b[0m\u001b[0m\n",
            "\u001b[0;32m/usr/local/lib/python3.7/dist-packages/tensorflow/python/data/ops/iterator_ops.py\u001b[0m in \u001b[0;36m_create_iterator\u001b[0;34m(self, dataset)\u001b[0m\n\u001b[1;32m    717\u001b[0m               \u001b[0moutput_types\u001b[0m\u001b[0;34m=\u001b[0m\u001b[0mself\u001b[0m\u001b[0;34m.\u001b[0m\u001b[0m_flat_output_types\u001b[0m\u001b[0;34m,\u001b[0m\u001b[0;34m\u001b[0m\u001b[0;34m\u001b[0m\u001b[0m\n\u001b[1;32m    718\u001b[0m               output_shapes=self._flat_output_shapes))\n\u001b[0;32m--> 719\u001b[0;31m       \u001b[0mgen_dataset_ops\u001b[0m\u001b[0;34m.\u001b[0m\u001b[0mmake_iterator\u001b[0m\u001b[0;34m(\u001b[0m\u001b[0mds_variant\u001b[0m\u001b[0;34m,\u001b[0m \u001b[0mself\u001b[0m\u001b[0;34m.\u001b[0m\u001b[0m_iterator_resource\u001b[0m\u001b[0;34m)\u001b[0m\u001b[0;34m\u001b[0m\u001b[0;34m\u001b[0m\u001b[0m\n\u001b[0m\u001b[1;32m    720\u001b[0m       \u001b[0;31m# Delete the resource when this object is deleted\u001b[0m\u001b[0;34m\u001b[0m\u001b[0;34m\u001b[0m\u001b[0;34m\u001b[0m\u001b[0m\n\u001b[1;32m    721\u001b[0m       self._resource_deleter = IteratorResourceDeleter(\n",
            "\u001b[0;32m/usr/local/lib/python3.7/dist-packages/tensorflow/python/ops/gen_dataset_ops.py\u001b[0m in \u001b[0;36mmake_iterator\u001b[0;34m(dataset, iterator, name)\u001b[0m\n\u001b[1;32m   3119\u001b[0m     \u001b[0;32mtry\u001b[0m\u001b[0;34m:\u001b[0m\u001b[0;34m\u001b[0m\u001b[0;34m\u001b[0m\u001b[0m\n\u001b[1;32m   3120\u001b[0m       _result = pywrap_tfe.TFE_Py_FastPathExecute(\n\u001b[0;32m-> 3121\u001b[0;31m         _ctx, \"MakeIterator\", name, dataset, iterator)\n\u001b[0m\u001b[1;32m   3122\u001b[0m       \u001b[0;32mreturn\u001b[0m \u001b[0m_result\u001b[0m\u001b[0;34m\u001b[0m\u001b[0;34m\u001b[0m\u001b[0m\n\u001b[1;32m   3123\u001b[0m     \u001b[0;32mexcept\u001b[0m \u001b[0m_core\u001b[0m\u001b[0;34m.\u001b[0m\u001b[0m_NotOkStatusException\u001b[0m \u001b[0;32mas\u001b[0m \u001b[0me\u001b[0m\u001b[0;34m:\u001b[0m\u001b[0;34m\u001b[0m\u001b[0;34m\u001b[0m\u001b[0m\n",
            "\u001b[0;31mKeyboardInterrupt\u001b[0m: "
          ]
        }
      ]
    },
    {
      "cell_type": "code",
      "metadata": {
        "id": "x72NlZ9ysEy7",
        "colab": {
          "base_uri": "https://localhost:8080/"
        },
        "outputId": "c8d0ccbb-46bc-42a5-e000-2f769e74024b"
      },
      "source": [
        "new_protos = pNet.projection(sample_sent_vect)"
      ],
      "execution_count": 16,
      "outputs": [
        {
          "output_type": "stream",
          "text": [
            "[db] p_count =  0\n",
            "[db] p_count =  1\n",
            "[db] p_count =  2\n",
            "[db] p_count =  3\n",
            "[db] p_count =  4\n",
            "[db] p_count =  5\n",
            "[db] p_count =  6\n",
            "[db] p_count =  7\n",
            "[db] p_count =  8\n",
            "[db] p_count =  9\n"
          ],
          "name": "stdout"
        }
      ]
    },
    {
      "cell_type": "code",
      "metadata": {
        "id": "M9a1bdN08zMw",
        "colab": {
          "base_uri": "https://localhost:8080/"
        },
        "outputId": "35b6fe9b-4077-46a5-ff0a-7e31b194922e"
      },
      "source": [
        "print(len(new_protos))"
      ],
      "execution_count": 17,
      "outputs": [
        {
          "output_type": "stream",
          "text": [
            "10\n"
          ],
          "name": "stdout"
        }
      ]
    },
    {
      "cell_type": "code",
      "metadata": {
        "id": "DkWiiOUlQLtt",
        "colab": {
          "base_uri": "https://localhost:8080/"
        },
        "outputId": "db6e4fcb-bbc6-4038-de8e-5e56b195cbc2"
      },
      "source": [
        "pNet.prototypeInterpretation(sample_sentences,sample_sent_vect)"
      ],
      "execution_count": 18,
      "outputs": [
        {
          "output_type": "stream",
          "text": [
            "[db] p_count =  0\n",
            "[db] p_count =  1\n",
            "[db] p_count =  2\n",
            "[db] p_count =  3\n",
            "[db] p_count =  4\n",
            "[db] p_count =  5\n",
            "[db] p_count =  6\n",
            "[db] p_count =  7\n",
            "[db] p_count =  8\n",
            "[db] p_count =  9\n",
            "p_count =  0\n",
            "count =  9935\n",
            "p_count =  1\n",
            "count =  9935\n",
            "p_count =  2\n",
            "count =  9935\n",
            "p_count =  3\n",
            "count =  9935\n",
            "p_count =  4\n",
            "count =  9935\n",
            "p_count =  5\n",
            "count =  9935\n",
            "p_count =  6\n",
            "count =  9935\n",
            "p_count =  7\n",
            "count =  9935\n",
            "p_count =  8\n",
            "count =  9935\n",
            "p_count =  9\n",
            "count =  9935\n",
            "prototype index =  0\n",
            "(453, 0.0)  Still, I thought the hotel was an excellent value for the money, and I would definitely stay there again\n",
            "(2972, 0.7802615)  Overall I was very happy with the hotel and would definitely stay here again\n",
            "(6958, 0.805239)  All in all, i'd recommend this hotel and definitely stay there again\n",
            "(5074, 0.83005947) It is certainly not cheap, but I liked the hotel and I would stay there again the next time I go back to Philadelphia\n",
            "(2126, 0.8513434)  Overall a great stay here and even though it didn't have a balcony I'd definitely stay here again\n",
            "(8057, 0.8515644)  It was my first stay in a kimpton hotel and now I don't want to stay anywhere else\n",
            "(8686, 0.86042213)  Would definitely recommend this hotel and would stay here again\n",
            "(9633, 0.86156166) i would stay at this hotel again no bother, its good value for money, its a basic hotel and you have to keep this in mind when you go, if your looking for a good location, and a clean hotel its great\n",
            "(1728, 0.8776313)  I will definitely be coming back to your hotel (probably for New Year's) given it's location and because we were treated so well\n",
            "(8126, 0.8777561) Nice hotel - would stay here again\n",
            "prototype index =  1\n",
            "(6695, 0.0)  We only stayed at the hotel for a short time, but I wish i was able spend more time to take advantage of the entire experience\n",
            "(5741, 0.8732083)  I just wish it lasted more than an hour since we didn't make it back to the hotel in time each night for it\n",
            "(9147, 0.8754887)  I have been staying at the hotel for approximately two years on a regular basis and both the pre-arrival and the stay are a positive experience each time I stay the hotel\n",
            "(8054, 0.887532)  We were only in the solamar hotel for 2 days but it was one of the best hotel stays we've ever had\n",
            "(6898, 0.89648473)  Because of the helpfulness and friendliness of the front desk staff, I wish that I could give this hotel a higher rating, but as we could not even stay past the first night of our reservation (and then only because it was late and dark and we had no other place to go), I could not recommend this hotel\n",
            "(563, 0.90792197)  Very clean hotel but staff from the minute checked in just felt like they had better things to do with their time and really would rather be somewhere else\n",
            "(278, 0.9176376)  I stayed at this hotel about a month before this stay and was not impressed\n",
            "(453, 0.9250921)  Still, I thought the hotel was an excellent value for the money, and I would definitely stay there again\n",
            "(7928, 0.9268523)  I did not need them here but they came in handy at other hotels later in our travels\n",
            "(4528, 0.9280832)  All I needed was a clean bed to stay in for a few hours so I could catch a flight, but this hotel couldn't even provide that\n",
            "prototype index =  2\n",
            "(8057, 0.0)  It was my first stay in a kimpton hotel and now I don't want to stay anywhere else\n",
            "(5074, 0.798653) It is certainly not cheap, but I liked the hotel and I would stay there again the next time I go back to Philadelphia\n",
            "(8653, 0.82082015)  Stayed at the JW Marriott several times now as it is in a very convenient location and close to Houston's, however I think it is a dump the more I stay\n",
            "(453, 0.8515644)  Still, I thought the hotel was an excellent value for the money, and I would definitely stay there again\n",
            "(9596, 0.87319326) This is the second worst hotel I've stayed in and I've stayed in a lot of hotels all over the world\n",
            "(7024, 0.8813594)  I have stayed in budget hotels before but this on was the worst\n",
            "(1881, 0.8831981)  I would not stay at this motel again or recommend to others\n",
            "(278, 0.8874787)  I stayed at this hotel about a month before this stay and was not impressed\n",
            "(3502, 0.8904945)  Save your money- this was the worst hotel in which I have EVER stayed\n",
            "(2934, 0.8919911)  I was unfortunate enough to stay here for 2 days and it was the worst hotel/motel I've ever stayed at\n",
            "prototype index =  3\n",
            "(9952, 0.0)  Was a small hotel which was fine for us\n",
            "(4879, 0.90144265) Hotel was great, but staff just missed it big time\n",
            "(1081, 0.9044634)  Nice hotel but poorly ran\n",
            "(450, 0.9179516) My only complaint was that the room was somewhat small for a hotel of this quality\n",
            "(3928, 0.9267983)  The hotel was nice, and well located\n",
            "(8438, 0.9302059) Hotel was alright, but needs some help\n",
            "(5690, 0.9310555) Just a terrible hotel in a great location\n",
            "(3391, 0.93108207)  I am truly sorry about your experience with our hotel\n",
            "(8184, 0.93793786)  Hotel reception was very professional but again, something was off\n",
            "(8054, 0.94254225)  We were only in the solamar hotel for 2 days but it was one of the best hotel stays we've ever had\n",
            "prototype index =  4\n",
            "(7579, 0.0)  I would have given this hotel a 5 star but we didn't like the parking situation\n",
            "(4529, 0.85349894)  In fact this hotel just seemed like a party spot for locals and would not feel comfortable even parking my car in the parking lot\n",
            "(6898, 0.855984)  Because of the helpfulness and friendliness of the front desk staff, I wish that I could give this hotel a higher rating, but as we could not even stay past the first night of our reservation (and then only because it was late and dark and we had no other place to go), I could not recommend this hotel\n",
            "(9937, 0.8839645)  The hotel did not want to give my money back, but when I called Hotel\n",
            "(1402, 0.8996579)  First off there is no parking, valet is your only option which would be fine if it were a better hotel\n",
            "(453, 0.91005826)  Still, I thought the hotel was an excellent value for the money, and I would definitely stay there again\n",
            "(9171, 0.92331797)  Neither of those options fits what I understand when a hotel advertises free parking\n",
            "(9201, 0.9243777)  I really felt service was better than at many 5 star hotels\n",
            "(8807, 0.93211204)  This hotel is a rare exceptional for my wife and I to find every aspect of our stay to be rated as 5 star service\n",
            "(450, 0.93212986) My only complaint was that the room was somewhat small for a hotel of this quality\n",
            "prototype index =  5\n",
            "(6139, 0.0)  Thanks for being our valued guest, and we look forward to welcoming you back soon\n",
            "(8379, 0.6196937)  Thank you for being our guest, and we look forward to that next visit\n",
            "(140, 0.62263215)  Thank you for your feedback and we look forward to having you back again soon\n",
            "(8433, 0.62786144)  Thanks again for your time and we look forward to accommodating you again soon\n",
            "(5428, 0.64080197)  Thank you again for staying with us and we look forward to your return\n",
            "(4769, 0.65214616) Thank you for staying with us and we look forward to your return visit\n",
            "(2349, 0.669058)  We look forward to seeing you in the future and thank you again\n",
            "(2287, 0.6760269)  Thank you for choosing to stay with us and I hope we can welcome you back soon\n",
            "(2234, 0.6805569)  We look forward to welcoming you back soon\n",
            "(1522, 0.69657236) We look forward to welcoming you back again soon\n",
            "prototype index =  6\n",
            "(5499, 0.0)  The hotel and service were great otherwise, I guess I got a bad room and no discount on it, so for me it wasn't worth the high price\n",
            "(738, 0.8597582)  I have heard the spa is the best in all la jolla although I didn't indulge :(All in all, i was pleased since we got a good deal but would not pay the full price they demand\n",
            "(5747, 0.8728784)  The price for our room was pretty steep since it was during Jazz Fest- but we still felt like it was a good value and in line with other hotels in the area\n",
            "(453, 0.8783356)  Still, I thought the hotel was an excellent value for the money, and I would definitely stay there again\n",
            "(882, 0.8884808)  It was an absolute waste of money I have spent nights in rooms that were half the price and twice as nice\n",
            "(8219, 0.9125664)  I found the Diva an ideal hotel for the price and the location, and I have no major complaints about the service or the room\n",
            "(5168, 0.9221186)  I get it that nicer hotels charge more for the same experience elsewhere doesn't mean I have to like it\n",
            "(5988, 0.93010503)  It was just a nice hotel all around and we couldn't beat the price\n",
            "(6898, 0.9413342)  Because of the helpfulness and friendliness of the front desk staff, I wish that I could give this hotel a higher rating, but as we could not even stay past the first night of our reservation (and then only because it was late and dark and we had no other place to go), I could not recommend this hotel\n",
            "(3003, 0.9441445)  I wish there were nicer things to say about this Inn, given its location and historic clout, but the room and the level of service of the staff we experienced were not great\n",
            "prototype index =  7\n",
            "(563, 0.0)  Very clean hotel but staff from the minute checked in just felt like they had better things to do with their time and really would rather be somewhere else\n",
            "(9633, 0.8743162) i would stay at this hotel again no bother, its good value for money, its a basic hotel and you have to keep this in mind when you go, if your looking for a good location, and a clean hotel its great\n",
            "(9533, 0.9024067)  The hotel certainly looks a bit tired in the hallways and could use some updating, but it is the staff that makes this hotel so very enjoyable\n",
            "(8057, 0.9029623)  It was my first stay in a kimpton hotel and now I don't want to stay anywhere else\n",
            "(6695, 0.90792197)  We only stayed at the hotel for a short time, but I wish i was able spend more time to take advantage of the entire experience\n",
            "(4773, 0.9080539)  The location is nice as well as the hotel staff, but is not a good place to stay if you need to get any sleep at night\n",
            "(3003, 0.9086348)  I wish there were nicer things to say about this Inn, given its location and historic clout, but the room and the level of service of the staff we experienced were not great\n",
            "(453, 0.9184447)  Still, I thought the hotel was an excellent value for the money, and I would definitely stay there again\n",
            "(6898, 0.9191761)  Because of the helpfulness and friendliness of the front desk staff, I wish that I could give this hotel a higher rating, but as we could not even stay past the first night of our reservation (and then only because it was late and dark and we had no other place to go), I could not recommend this hotel\n",
            "(4528, 0.9318704)  All I needed was a clean bed to stay in for a few hours so I could catch a flight, but this hotel couldn't even provide that\n",
            "prototype index =  8\n",
            "(450, 0.0) My only complaint was that the room was somewhat small for a hotel of this quality\n",
            "(9509, 0.72651523)  My only complaint was that the bathroom was extremely small\n",
            "(2219, 0.7938826)  Room was a good size , my only complaint was there wasn't a mirror in the bedroom area , only by the bathroom\n",
            "(1798, 0.8223736) My main complaint with this hotel is that there is no free internet access in the room (it is 9\n",
            "(9996, 0.85281736)  The room we had was very comfortable - a bit small, but it was pretty, clean, quiet and very nice\n",
            "(8219, 0.8797144)  I found the Diva an ideal hotel for the price and the location, and I have no major complaints about the service or the room\n",
            "(7000, 0.90041465)  Room: My room was a double that was quite nice\n",
            "(3003, 0.909481)  I wish there were nicer things to say about this Inn, given its location and historic clout, but the room and the level of service of the staff we experienced were not great\n",
            "(8220, 0.9129377)  I booked one of the slightly larger rooms, which made my stay more enjoyable\n",
            "(9952, 0.9179516)  Was a small hotel which was fine for us\n",
            "prototype index =  9\n",
            "(5985, 0.0)  The Hotel had a nice room, Clean, and everything you needed to just have a nice stay\n",
            "(8128, 0.9014956)  Hotel had a cool vibe and was clean and everyone was very nice and helpful\n",
            "(5164, 0.91189635)  The hotel rooms were clean with a nice setup, no complaints there\n",
            "(4773, 0.92155373)  The location is nice as well as the hotel staff, but is not a good place to stay if you need to get any sleep at night\n",
            "(8187, 0.9261971)  It is still a very nice hotel and the rooms are very clean and pleasant\n",
            "(4528, 0.9278001)  All I needed was a clean bed to stay in for a few hours so I could catch a flight, but this hotel couldn't even provide that\n",
            "(3308, 0.93461686)  The room was very comfortable and clean would recommend this hotel\n",
            "(2670, 0.9379598)  All rooms in suite were clean nice\n",
            "(9633, 0.9411988) i would stay at this hotel again no bother, its good value for money, its a basic hotel and you have to keep this in mind when you go, if your looking for a good location, and a clean hotel its great\n",
            "(8057, 0.94193846)  It was my first stay in a kimpton hotel and now I don't want to stay anywhere else\n"
          ],
          "name": "stdout"
        }
      ]
    },
    {
      "cell_type": "code",
      "metadata": {
        "id": "eIcdX9k9TpH7"
      },
      "source": [
        "#pNet.protoFreq(sample_sent_vect)"
      ],
      "execution_count": null,
      "outputs": []
    },
    {
      "cell_type": "code",
      "metadata": {
        "id": "X3ucVQBsU0D3"
      },
      "source": [
        "#pNet.pruningTrain(2,x_train,y_train,x_test,y_test)"
      ],
      "execution_count": null,
      "outputs": []
    },
    {
      "cell_type": "code",
      "metadata": {
        "id": "8aglx5dIWFew"
      },
      "source": [
        ""
      ],
      "execution_count": null,
      "outputs": []
    }
  ]
}