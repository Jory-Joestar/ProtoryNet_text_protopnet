{
  "nbformat": 4,
  "nbformat_minor": 0,
  "metadata": {
    "colab": {
      "name": "ProtoryNet_example.ipynb",
      "provenance": [],
      "collapsed_sections": []
    },
    "kernelspec": {
      "name": "python3",
      "display_name": "Python 3"
    },
    "language_info": {
      "name": "python"
    },
    "accelerator": "GPU"
  },
  "cells": [
    {
      "cell_type": "code",
      "metadata": {
        "colab": {
          "base_uri": "https://localhost:8080/"
        },
        "id": "3e0RK6hBht6o",
        "outputId": "b7f1be16-550e-4690-f001-62f2dccc1947"
      },
      "source": [
        "!pip install scikit-learn-extra"
      ],
      "execution_count": null,
      "outputs": [
        {
          "output_type": "stream",
          "text": [
            "Requirement already satisfied: scikit-learn-extra in /usr/local/lib/python3.7/dist-packages (0.2.0)\n",
            "Requirement already satisfied: numpy>=1.13.3 in /usr/local/lib/python3.7/dist-packages (from scikit-learn-extra) (1.19.5)\n",
            "Requirement already satisfied: scipy>=0.19.1 in /usr/local/lib/python3.7/dist-packages (from scikit-learn-extra) (1.4.1)\n",
            "Requirement already satisfied: scikit-learn>=0.23.0 in /usr/local/lib/python3.7/dist-packages (from scikit-learn-extra) (0.24.2)\n",
            "Requirement already satisfied: threadpoolctl>=2.0.0 in /usr/local/lib/python3.7/dist-packages (from scikit-learn>=0.23.0->scikit-learn-extra) (2.2.0)\n",
            "Requirement already satisfied: joblib>=0.11 in /usr/local/lib/python3.7/dist-packages (from scikit-learn>=0.23.0->scikit-learn-extra) (1.0.1)\n"
          ],
          "name": "stdout"
        }
      ]
    },
    {
      "cell_type": "code",
      "metadata": {
        "id": "zBGXozxbfkDf",
        "colab": {
          "base_uri": "https://localhost:8080/"
        },
        "outputId": "2fcc7d93-dea0-403e-bb18-21f2cac2059b"
      },
      "source": [
        "!pip install -q pyyaml h5py\n",
        "!pip install vaderSentiment"
      ],
      "execution_count": null,
      "outputs": [
        {
          "output_type": "stream",
          "text": [
            "Requirement already satisfied: vaderSentiment in /usr/local/lib/python3.7/dist-packages (3.3.2)\n",
            "Requirement already satisfied: requests in /usr/local/lib/python3.7/dist-packages (from vaderSentiment) (2.23.0)\n",
            "Requirement already satisfied: certifi>=2017.4.17 in /usr/local/lib/python3.7/dist-packages (from requests->vaderSentiment) (2021.5.30)\n",
            "Requirement already satisfied: chardet<4,>=3.0.2 in /usr/local/lib/python3.7/dist-packages (from requests->vaderSentiment) (3.0.4)\n",
            "Requirement already satisfied: urllib3!=1.25.0,!=1.25.1,<1.26,>=1.21.1 in /usr/local/lib/python3.7/dist-packages (from requests->vaderSentiment) (1.24.3)\n",
            "Requirement already satisfied: idna<3,>=2.5 in /usr/local/lib/python3.7/dist-packages (from requests->vaderSentiment) (2.10)\n"
          ],
          "name": "stdout"
        }
      ]
    },
    {
      "cell_type": "code",
      "metadata": {
        "id": "KGU7rAmNfmjF"
      },
      "source": [
        "#import neccesary packages\n",
        "import tensorflow_hub as hub\n",
        "import tensorflow as tf\n",
        "import pickle\n",
        "from keras import backend as K\n",
        "import numpy as np\n",
        "from sklearn_extra.cluster import KMedoids\n",
        "from tensorflow import keras\n",
        "from tensorflow.keras.layers import Concatenate, Dense, Input, LSTM, Embedding, Dropout, Activation, GRU, Flatten\n",
        "from datetime import datetime\n",
        "from scipy.spatial import distance_matrix\n",
        "import sys"
      ],
      "execution_count": null,
      "outputs": []
    },
    {
      "cell_type": "code",
      "metadata": {
        "id": "93YRvCsMfneI",
        "colab": {
          "base_uri": "https://localhost:8080/"
        },
        "outputId": "ffffa5b2-aad3-46f3-e6c9-4724b9d14dc9"
      },
      "source": [
        "#mount your google drive here\n",
        "print(tf.__version__)\n",
        "from google.colab import drive \n",
        "drive.mount('/content/drive')"
      ],
      "execution_count": null,
      "outputs": [
        {
          "output_type": "stream",
          "text": [
            "2.6.0\n",
            "Drive already mounted at /content/drive; to attempt to forcibly remount, call drive.mount(\"/content/drive\", force_remount=True).\n"
          ],
          "name": "stdout"
        }
      ]
    },
    {
      "cell_type": "markdown",
      "metadata": {
        "id": "6IkGwcJaN4f_"
      },
      "source": [
        "# Import datasets"
      ]
    },
    {
      "cell_type": "code",
      "metadata": {
        "id": "XqtOqokrfsBg"
      },
      "source": [
        "#directory of the datasets. Github provides these files in the form of pickle files\n",
        "#dir = \"../datasets/hotel/\"\n",
        "dir = \"./\"\n",
        "with open (dir + 'y_train', 'rb') as fp:\n",
        "    y_train = pickle.load(fp)\n",
        "\n",
        "with open (dir + 'train_not_clean', 'rb') as fp:\n",
        "    train_not_clean = pickle.load(fp)\n",
        "\n",
        "with open (dir + 'test_not_clean', 'rb') as fp:\n",
        "    test_not_clean = pickle.load(fp)\n",
        "\n",
        "with open (dir + 'y_test', 'rb') as fp:\n",
        "    y_test = pickle.load(fp)"
      ],
      "execution_count": null,
      "outputs": []
    },
    {
      "cell_type": "code",
      "metadata": {
        "colab": {
          "base_uri": "https://localhost:8080/"
        },
        "id": "xdZhXzbERuDY",
        "outputId": "4253dc3a-a92d-44ba-81dc-62cc8d2c8bd9"
      },
      "source": [
        "print(train_not_clean[:10])\n",
        "print(y_train[:10])"
      ],
      "execution_count": null,
      "outputs": [
        {
          "output_type": "stream",
          "text": [
            "[\"RENT A STEAM CLEANER. The location is very, very inconvenient, but I am sure that is nothing they can help, it is just how the city has grown around their location. I would have rated the room as a 4 or 5 for clean if the sofa was not so disgusting. I literally covered it with a sheet just to sit on it. There was not one inch of surface that was not covered with a greasy/dirty stain. I would have switched rooms if I hadn't already unloaded all of my stuff in the rain before I turned on the lights to reveal the nasty sofa. Otherwise, the room was clean and comfortable. It would be worth a couple of hundred dollars to get a steam cleaner and clean the sofas in each room. Not to mention how unsanitary it is\", \"Great hotel and staff - recommend. I came in late after a long drive from Vegas ending in a whole lot of highway exits and concentration to get to Napa. I was greeted by a friendly night staff who was expecting me, and (not sure of his name) made me feel more relaxed immediately. I even got a little welcome pack with a snack and water. That was much appreciated.Breakfast was not included, fruit and granola bars were out in the lobby. A hotel discount was offered at the friendly Denny's next door. My room was quiet and all 3 of the morning staff were incredibly helpful the next morning helping me map out my day of driving, and helping me choose and book my next hotels. The hotel is a convienent location, not too far off the main highway. Near all services and malls if needed.We are glad you enjoyed your stay with us and look foward to seeing you on your next visit to the Napa Valley\", \"comfy place. We were greeted by the front desk when we arrived 3 hours prior to our check in. We were treated with respect. She guided us where we can have meals and stored our luggage. The rooms were given as early as it was ready. Loved that the room did not have carpets for allergy sufferers. Clean room. Close to Sea world and Old town. Loved the stay. Here at the Ramada Limited San Diego/Near SeaWorld, we love to accommodate. We're delighted that you got to experience the extraordinary hospitality of our team. As you noted, our location is perfect for taking in the sights of San Diego, and it is great to hear that you took advantage. Thank you for the five-star review, and we hope to see you again soon\", \"Unhappy Guest. Illegal activity going on the parking lot when we arrived. There was women standing next to motels doors waiting to be served or get served no working vending machines for a soft drink. Black mold growing in the ceiling of our room. The room stunk terribly. There were holes all in the walls and they were patched with thin metal plates. My husband stepped on something and come to find out, it was an extention cord running underneath the carpet, from the out side to the air conditioner inside. We wedged two chairs next to the door because it would not shut properly. The shower head was about to fall out. We felt gross even after a bath. We slept fully dressed because I didn't want any of body parts touching the bed\", 'Perfect family suite. Staff very friendly and informative, even before being asked. 2 room king suite exceeded expectations. Comfortable beds and plenty of linens at check in.Dear 57crystalcThank you for your kind words regarding your stay at the Hawthorn Suites Dallas Park Central. We were glad to have you as our guest, and appreciate you taking the time to comment regarding your visit with us. We look forward to the opportunity to host you again the next time you are in the Dallas area. Thanks again for being our guest. Best regards, Charlie Westhoven Operations Manager Hawthorn Suites Dallas Park Central', \"Great service and location. We were given a beautiful room overlooking Pike's Market and the Bay. Nice size rooms and wonderful bathroom. Staff was welcoming and remembered our names as we went in and out of hotel. Well located for all public transportation and restaurants. In the middle of all the best shopping. Walked everywhere or took public transportation wherever we needed to go.Thank you for taking the time to review the Grand Hyatt Seattle. Our hotel is perfect for the recreation or business travel and is conveniently located to public transportation and many Seattle attractions. I am pleased to hear that our location, guest rooms and friendly staff made your stay enjoyable. Lindye W.Guest Relations Manager\", 'I almost got sick when I saw the room. This is one of those things that I actually can semi laugh about at this time, but it sickens me still. I am very clean and neat as a pin. We needed a layover as we were moving items from our NY home to our NJ home. We had a rental truck booked and it was about 11:00 pm when. More', \"great holiday. Pluses: location, all suites Minuses: Rude and unhelpful staff, worst breakfast selection and coffee quality of any Embassy Suites I've ever stayed in\", \"Great Hyatt property, a little pricey. The hotel is great, the rooms have been updated. My TV came well appointed with a new LG LED TV that was probably 50 inches, a stand alone shower with a separate bath tube. The furniture and the room are well maintained, and the hotel itself has kept current with its decor. The hotel has a nice gym, pool, and all the other things that make a Grand Hyatt a Grand Hyatt. The valet was very quick with the car which is always fantastic. My only pet peeve is that there are a Starbucks and small shop attached to the property, but they do not take room charges. When you are connected to the hotel, in the hotel's actual building, you should take room charges\", \"Very nice old city vibe. Surrounded by new urban buildings, this hotel/motel is a diamond in the rough. The exterior is clean, quaint, and the grounds are lush with flowers and shrubs in the small space the hotel occupies. Our room was clean and bathroom has been updated with modern fixtures. The room, including the bathroom, is very small with little room to spread out. I wasn't impressed with the mattress. It seemed to be either old or poor quality.maybe both. The included breakfast wasn't fancy or abundant with choices but the quality of the items provided was very good. All in all this hotel is very clean and the employees we encountered were very nice. Price was right for location, quality, and amenities.Hi fadedbjulejeans,Our entire team would like to thank you for staying at our property. We apologized for not exceeding your expectations. We will use your reviews for us to improve on those areas. We hope you consider staying with us again\"]\n",
            "[1 1 1 0 1 1 0 0 1 1]\n"
          ],
          "name": "stdout"
        }
      ]
    },
    {
      "cell_type": "markdown",
      "metadata": {
        "id": "Xct3r6rdOLev"
      },
      "source": [
        "# Data preprocessing"
      ]
    },
    {
      "cell_type": "code",
      "metadata": {
        "id": "TEbpMg8ygFxV"
      },
      "source": [
        "#this method is to split the paragraphs into sentences\n",
        "def gen_sents(para):\n",
        "    res = []\n",
        "    for p in para:\n",
        "        sents = p.split(\".\")\n",
        "        res.append(sents)\n",
        "    return res\n",
        "\n",
        "\n",
        "train_noclean_sents = gen_sents(train_not_clean)\n",
        "test_noclean_sents = gen_sents(test_not_clean)"
      ],
      "execution_count": null,
      "outputs": []
    },
    {
      "cell_type": "code",
      "metadata": {
        "colab": {
          "base_uri": "https://localhost:8080/"
        },
        "id": "nNM0Ud6CjIUw",
        "outputId": "2bc8e55e-0e06-4607-d563-798cb7672129"
      },
      "source": [
        "x_train = train_noclean_sents\n",
        "x_test = test_noclean_sents\n",
        "\n",
        "#optional: just to make sure the label values are integers\n",
        "y_train = [int(y) for y in y_train]\n",
        "y_test = [int(y) for y in y_test]\n",
        "\n",
        "\n",
        "print('test_noclean_sents ', len(test_noclean_sents), len(test_noclean_sents[0]), test_noclean_sents[0])\n",
        "print('y_train: ', y_train[:10])\n",
        "print('y_test: ', y_test[:10])"
      ],
      "execution_count": null,
      "outputs": [
        {
          "output_type": "stream",
          "text": [
            "test_noclean_sents  902 7 ['Share your room with roach or bug', ' Roach in the room but the staff said its just a bug not a roach, like that made it any better', ' Big hole in the bathroom wall were this bug/roach came out of', ' Wonder what other rodent will come out of the wall', 'Thank you for providing us with your feedback', ' I would like to apologize for any of the inconveniences you may have experienced during your time with us', ' I wish that I had been notified of your concerns before you had checked out and I would like to apologize on behalf of our staff']\n",
            "y_train:  [1, 1, 1, 0, 1, 1, 0, 0, 1, 1]\n",
            "y_test:  [0, 0, 1, 1, 0, 1, 0, 0, 0, 1]\n"
          ],
          "name": "stdout"
        }
      ]
    },
    {
      "cell_type": "code",
      "metadata": {
        "colab": {
          "base_uri": "https://localhost:8080/"
        },
        "id": "V7J7G3engGRo",
        "outputId": "7e7578b8-f3e7-4fcd-acd2-37bd18740d1d"
      },
      "source": [
        "#import Google Sentence encoder, to convert sentences into vector values\n",
        "module_url = \"https://tfhub.dev/google/universal-sentence-encoder/4\"\n",
        "model = hub.load(module_url)\n",
        "print(\"module %s loaded\" % module_url)\n",
        "\n",
        "def embed(input):\n",
        "    return model(input)"
      ],
      "execution_count": null,
      "outputs": [
        {
          "output_type": "stream",
          "text": [
            "module https://tfhub.dev/google/universal-sentence-encoder/4 loaded\n"
          ],
          "name": "stdout"
        }
      ]
    },
    {
      "cell_type": "code",
      "metadata": {
        "colab": {
          "base_uri": "https://localhost:8080/"
        },
        "id": "RAkea6lngHvA",
        "outputId": "83e83d9e-f7cc-47f5-a00d-2811f2cda78d"
      },
      "source": [
        "#sampling training data (sentences)\n",
        "sample_sentences = []\n",
        "#choose with data to sample\n",
        "for p in train_noclean_sents[:1000]:\n",
        "    sample_sentences.extend(p)\n",
        "\n",
        "#compute vector values of sentences\n",
        "sample_sent_vect = embed(sample_sentences)\n",
        "print(sample_sent_vect)"
      ],
      "execution_count": null,
      "outputs": [
        {
          "output_type": "stream",
          "text": [
            "tf.Tensor(\n",
            "[[-0.02057868 -0.02088437  0.04719457 ... -0.05737035  0.0809434\n",
            "   0.03041554]\n",
            " [ 0.00906794 -0.03493961 -0.02079896 ... -0.04224585  0.0316922\n",
            "   0.02062658]\n",
            " [-0.05278953  0.00524479 -0.04006644 ... -0.05303752  0.07519065\n",
            "  -0.00645196]\n",
            " ...\n",
            " [-0.01198282 -0.03123995 -0.04763544 ... -0.02125541 -0.00142225\n",
            "   0.04536419]\n",
            " [ 0.00181901 -0.06974981 -0.05855938 ...  0.03950791  0.06799415\n",
            "   0.08365905]\n",
            " [-0.07305439 -0.02952773  0.03002902 ... -0.0527765   0.01056046\n",
            "   0.04155547]], shape=(11747, 512), dtype=float32)\n"
          ],
          "name": "stdout"
        }
      ]
    },
    {
      "cell_type": "markdown",
      "metadata": {
        "id": "aWP5cKX6OQtu"
      },
      "source": [
        "# Prototype initialization"
      ]
    },
    {
      "cell_type": "code",
      "metadata": {
        "colab": {
          "base_uri": "https://localhost:8080/"
        },
        "id": "-72NuWCJgKbf",
        "outputId": "af3a3536-9f89-47af-b165-abfa1b267e27"
      },
      "source": [
        "k_protos, vect_size = 10, 512\n",
        "kmedoids = KMedoids(n_clusters=k_protos, random_state=0).fit(sample_sent_vect)\n",
        "k_cents = kmedoids.cluster_centers_\n",
        "print(k_cents.shape)"
      ],
      "execution_count": null,
      "outputs": [
        {
          "output_type": "stream",
          "text": [
            "(10, 512)\n"
          ],
          "name": "stdout"
        }
      ]
    },
    {
      "cell_type": "markdown",
      "metadata": {
        "id": "KI9aT_tZOY3Q"
      },
      "source": [
        "# Model training and testing"
      ]
    },
    {
      "cell_type": "code",
      "metadata": {
        "id": "SRJ5ui5jg_ui"
      },
      "source": [
        "#import protoryNet, we recommend you download the protoryNet.py file from Github to have the most updated version\n",
        "from protoryNet import ProtoryNet"
      ],
      "execution_count": null,
      "outputs": []
    },
    {
      "cell_type": "code",
      "metadata": {
        "id": "8NNK6ORKhtRV"
      },
      "source": [
        "pNet = ProtoryNet() "
      ],
      "execution_count": null,
      "outputs": []
    },
    {
      "cell_type": "code",
      "metadata": {
        "colab": {
          "base_uri": "https://localhost:8080/"
        },
        "id": "LOQ5g8igi7HW",
        "outputId": "c4e86d04-1f62-4e32-b9b7-22a34b5b77d4"
      },
      "source": [
        "model = pNet.createModel(k_cents)"
      ],
      "execution_count": null,
      "outputs": [
        {
          "output_type": "stream",
          "text": [
            "[db] model.input =  KerasTensor(type_spec=TensorSpec(shape=(None,), dtype=tf.string, name='input_1'), name='input_1', description=\"created by layer 'input_1'\")\n",
            "[db] protoLayerName =  proto_layer\n",
            "[db] protoLayer =  <protoryNet.ProtoryNet.createModel.<locals>.prototypeLayer object at 0x7fc9346aa2d0>\n",
            "[db] protoLayer.output =  (<KerasTensor: shape=(None, None, 10) dtype=float32 (created by layer 'proto_layer')>, <KerasTensor: shape=(10, 512) dtype=float32 (created by layer 'proto_layer')>)\n",
            "[db] distanceLayer.output =  KerasTensor(type_spec=TensorSpec(shape=(None, None, 10), dtype=tf.float32, name=None), name='distance_layer/PartitionedCall:0', description=\"created by layer 'distance_layer'\")\n",
            "Model: \"custom_model\"\n",
            "_________________________________________________________________\n",
            "Layer (type)                 Output Shape              Param #   \n",
            "=================================================================\n",
            "input_1 (InputLayer)         [(None,)]                 0         \n",
            "_________________________________________________________________\n",
            "keras_layer (KerasLayer)     (None, 512)               256797824 \n",
            "_________________________________________________________________\n",
            "tf.expand_dims (TFOpLambda)  (1, None, 512)            0         \n",
            "_________________________________________________________________\n",
            "proto_layer (prototypeLayer) ((None, None, 10), (10, 5 5120      \n",
            "_________________________________________________________________\n",
            "distance_layer (distanceLaye (None, None, 10)          0         \n",
            "_________________________________________________________________\n",
            "lstm (LSTM)                  [(None, None, 128), (None 71168     \n",
            "_________________________________________________________________\n",
            "tf.__operators__.getitem (Sl (None, 128)               0         \n",
            "_________________________________________________________________\n",
            "dense (Dense)                (None, 1)                 129       \n",
            "_________________________________________________________________\n",
            "tf.compat.v1.squeeze (TFOpLa (1,)                      0         \n",
            "_________________________________________________________________\n",
            "model (Functional)           ((None, None, 10), (10, 5 256802944 \n",
            "_________________________________________________________________\n",
            "model_1 (Functional)         (None, None, 10)          256802944 \n",
            "=================================================================\n",
            "Total params: 256,874,241\n",
            "Trainable params: 256,874,241\n",
            "Non-trainable params: 0\n",
            "_________________________________________________________________\n"
          ],
          "name": "stdout"
        }
      ]
    },
    {
      "cell_type": "code",
      "metadata": {
        "colab": {
          "base_uri": "https://localhost:8080/",
          "height": 1000
        },
        "id": "8kiIGwFTqGEZ",
        "outputId": "88139918-5fe8-44e7-f780-397183e653f1"
      },
      "source": [
        "pNet.train(x_train,y_train,x_test,y_test)"
      ],
      "execution_count": null,
      "outputs": [
        {
          "output_type": "stream",
          "text": [
            "Epoch  0\n",
            "i =   0\n",
            "1/1 [==============================] - 11s 11s/step - loss: 0.7002\n",
            "Evaluating y_pred, y  [0.4977372] 0 0\n",
            "Evaluating y_pred, y  [0.5068006] 1 1\n",
            "Evaluate on valid set:  0.573170731707317\n",
            "This is the best eval res, saving the model...\n",
            "saving model now = 2021-08-26 19:46:20.007901\n",
            "date and time = 26_08_2021_19_46_20\n",
            "just saved\n",
            "i =   50\n",
            "1/1 [==============================] - 0s 238ms/step - loss: 0.6345\n",
            "i =   100\n",
            "1/1 [==============================] - 0s 237ms/step - loss: 0.8884\n",
            "i =   150\n",
            "1/1 [==============================] - 0s 239ms/step - loss: 0.6312\n",
            "i =   200\n",
            "1/1 [==============================] - 0s 234ms/step - loss: 0.8689\n",
            "Evaluating y_pred, y  [0.5622301] 1 0\n",
            "Evaluating y_pred, y  [0.61904633] 1 1\n",
            "Evaluate on valid set:  0.5254988913525499\n",
            "i =   250\n",
            "1/1 [==============================] - 0s 237ms/step - loss: 0.8369\n",
            "i =   300\n",
            "1/1 [==============================] - 0s 237ms/step - loss: 0.6128\n",
            "i =   350\n",
            "1/1 [==============================] - 0s 243ms/step - loss: 0.0403\n",
            "i =   400\n",
            "1/1 [==============================] - 0s 237ms/step - loss: 2.3368\n",
            "Evaluating y_pred, y  [0.3444964] 0 0\n",
            "Evaluating y_pred, y  [0.862157] 1 1\n",
            "Evaluate on valid set:  0.8957871396895787\n",
            "This is the best eval res, saving the model...\n",
            "saving model now = 2021-08-26 19:50:29.566420\n",
            "date and time = 26_08_2021_19_50_29\n",
            "just saved\n",
            "i =   450\n",
            "1/1 [==============================] - 0s 237ms/step - loss: 0.3964\n",
            "i =   500\n",
            "1/1 [==============================] - 0s 236ms/step - loss: 0.8810\n",
            "i =   550\n",
            "1/1 [==============================] - 0s 233ms/step - loss: 0.2176\n",
            "i =   600\n",
            "1/1 [==============================] - 0s 235ms/step - loss: 0.3024\n",
            "Evaluating y_pred, y  [0.29945636] 0 0\n",
            "Evaluating y_pred, y  [0.9063944] 1 1\n",
            "Evaluate on valid set:  0.8968957871396895\n",
            "This is the best eval res, saving the model...\n",
            "saving model now = 2021-08-26 19:52:32.251062\n",
            "date and time = 26_08_2021_19_52_32\n",
            "just saved\n",
            "i =   650\n",
            "1/1 [==============================] - 0s 238ms/step - loss: 0.0168\n",
            "i =   700\n",
            "1/1 [==============================] - 0s 234ms/step - loss: 0.5370\n",
            "i =   750\n",
            "2/2 [==============================] - 0s 240ms/step - loss: 0.4178\n",
            "i =   800\n",
            "1/1 [==============================] - 0s 239ms/step - loss: 0.7316\n",
            "Evaluating y_pred, y  [0.3096552] 0 0\n",
            "Evaluating y_pred, y  [0.9462014] 1 1\n",
            "Evaluate on valid set:  0.8791574279379157\n",
            "i =   850\n",
            "1/1 [==============================] - 0s 237ms/step - loss: 0.0882\n",
            "i =   900\n",
            "1/1 [==============================] - 0s 234ms/step - loss: 0.4795\n",
            "i =   950\n",
            "1/1 [==============================] - 0s 235ms/step - loss: 0.2855\n",
            "i =   1000\n",
            "1/1 [==============================] - 0s 234ms/step - loss: 0.3929\n",
            "Evaluating y_pred, y  [0.21356109] 0 0\n",
            "Evaluating y_pred, y  [0.92150134] 1 1\n",
            "Evaluate on valid set:  0.9002217294900222\n",
            "This is the best eval res, saving the model...\n",
            "saving model now = 2021-08-26 19:56:35.546565\n",
            "date and time = 26_08_2021_19_56_35\n",
            "just saved\n",
            "i =   1050\n",
            "1/1 [==============================] - 0s 238ms/step - loss: 0.0306\n",
            "i =   1100\n",
            "1/1 [==============================] - 0s 238ms/step - loss: 0.8509\n",
            "i =   1150\n",
            "1/1 [==============================] - 0s 235ms/step - loss: 0.2046\n",
            "i =   1200\n",
            "1/1 [==============================] - 0s 240ms/step - loss: 1.5969\n",
            "Evaluating y_pred, y  [0.24412826] 0 0\n",
            "Evaluating y_pred, y  [0.97710013] 1 1\n",
            "Evaluate on valid set:  0.9113082039911308\n",
            "This is the best eval res, saving the model...\n",
            "saving model now = 2021-08-26 19:58:37.570131\n",
            "date and time = 26_08_2021_19_58_37\n",
            "just saved\n",
            "i =   1250\n",
            "1/1 [==============================] - 0s 236ms/step - loss: 0.3665\n",
            "i =   1300\n",
            "1/1 [==============================] - 0s 239ms/step - loss: 1.6444\n",
            "i =   1350\n",
            "1/1 [==============================] - 0s 238ms/step - loss: 0.0531\n",
            "i =   1400\n",
            "1/1 [==============================] - 0s 238ms/step - loss: 0.0125\n",
            "Evaluating y_pred, y  [0.09750008] 0 0\n",
            "Evaluating y_pred, y  [0.96973354] 1 1\n",
            "Evaluate on valid set:  0.9113082039911308\n",
            "i =   1450\n",
            "1/1 [==============================] - 0s 238ms/step - loss: 0.0695\n",
            "i =   1500\n",
            "1/1 [==============================] - 0s 238ms/step - loss: 0.1574\n",
            "i =   1550\n",
            "1/1 [==============================] - 0s 233ms/step - loss: 0.1089\n",
            "i =   1600\n",
            "1/1 [==============================] - 0s 236ms/step - loss: 0.0530\n",
            "Evaluating y_pred, y  [0.09061088] 0 0\n",
            "Evaluating y_pred, y  [0.9880156] 1 1\n",
            "Evaluate on valid set:  0.9235033259423503\n",
            "This is the best eval res, saving the model...\n",
            "saving model now = 2021-08-26 20:02:38.011629\n",
            "date and time = 26_08_2021_20_02_38\n",
            "just saved\n",
            "i =   1650\n",
            "1/1 [==============================] - 0s 235ms/step - loss: 0.1175\n",
            "i =   1700\n",
            "1/1 [==============================] - 0s 234ms/step - loss: 1.6642\n",
            "i =   1750\n",
            "1/1 [==============================] - 0s 235ms/step - loss: 0.0102\n",
            "i =   1800\n",
            "1/1 [==============================] - 0s 236ms/step - loss: 0.0156\n",
            "Evaluating y_pred, y  [0.10000747] 0 0\n",
            "Evaluating y_pred, y  [0.9914677] 1 1\n",
            "Evaluate on valid set:  0.9246119733924612\n",
            "This is the best eval res, saving the model...\n",
            "saving model now = 2021-08-26 20:04:41.774904\n",
            "date and time = 26_08_2021_20_04_41\n",
            "just saved\n",
            "i =   1850\n",
            "1/1 [==============================] - 0s 232ms/step - loss: 0.3273\n",
            "i =   1900\n",
            "1/1 [==============================] - 0s 239ms/step - loss: 0.1798\n",
            "i =   1950\n",
            "1/1 [==============================] - 0s 235ms/step - loss: 0.0095\n"
          ],
          "name": "stdout"
        },
        {
          "output_type": "error",
          "ename": "KeyboardInterrupt",
          "evalue": "ignored",
          "traceback": [
            "\u001b[0;31m---------------------------------------------------------------------------\u001b[0m",
            "\u001b[0;31mKeyboardInterrupt\u001b[0m                         Traceback (most recent call last)",
            "\u001b[0;32m<ipython-input-15-f5fc0eaa5da6>\u001b[0m in \u001b[0;36m<module>\u001b[0;34m()\u001b[0m\n\u001b[0;32m----> 1\u001b[0;31m \u001b[0mpNet\u001b[0m\u001b[0;34m.\u001b[0m\u001b[0mtrain\u001b[0m\u001b[0;34m(\u001b[0m\u001b[0mx_train\u001b[0m\u001b[0;34m,\u001b[0m\u001b[0my_train\u001b[0m\u001b[0;34m,\u001b[0m\u001b[0mx_test\u001b[0m\u001b[0;34m,\u001b[0m\u001b[0my_test\u001b[0m\u001b[0;34m)\u001b[0m\u001b[0;34m\u001b[0m\u001b[0;34m\u001b[0m\u001b[0m\n\u001b[0m",
            "\u001b[0;32m/content/protoryNet.py\u001b[0m in \u001b[0;36mtrain\u001b[0;34m(self, x_train, y_train, x_test, y_test, saveModel)\u001b[0m\n\u001b[1;32m    213\u001b[0m                               \u001b[0mlen\u001b[0m\u001b[0;34m(\u001b[0m\u001b[0mx_train\u001b[0m\u001b[0;34m[\u001b[0m\u001b[0mi\u001b[0m\u001b[0;34m]\u001b[0m\u001b[0;34m)\u001b[0m \u001b[0;34m*\u001b[0m \u001b[0;34m[\u001b[0m\u001b[0my_train\u001b[0m\u001b[0;34m[\u001b[0m\u001b[0mi\u001b[0m\u001b[0;34m]\u001b[0m\u001b[0;34m]\u001b[0m\u001b[0;34m,\u001b[0m\u001b[0;34m\u001b[0m\u001b[0;34m\u001b[0m\u001b[0m\n\u001b[1;32m    214\u001b[0m                               \u001b[0mepochs\u001b[0m\u001b[0;34m=\u001b[0m\u001b[0;36m1\u001b[0m\u001b[0;34m,\u001b[0m \u001b[0mverbose\u001b[0m\u001b[0;34m=\u001b[0m\u001b[0;36m0\u001b[0m\u001b[0;34m,\u001b[0m\u001b[0;34m\u001b[0m\u001b[0;34m\u001b[0m\u001b[0m\n\u001b[0;32m--> 215\u001b[0;31m                               validation_data=None)\n\u001b[0m\u001b[1;32m    216\u001b[0m                 \u001b[0;31m#Evaluate after every 200 iteration\u001b[0m\u001b[0;34m\u001b[0m\u001b[0;34m\u001b[0m\u001b[0;34m\u001b[0m\u001b[0m\n\u001b[1;32m    217\u001b[0m                 \u001b[0;32mif\u001b[0m \u001b[0mi\u001b[0m \u001b[0;34m%\u001b[0m \u001b[0;36m200\u001b[0m \u001b[0;34m==\u001b[0m \u001b[0;36m0\u001b[0m\u001b[0;34m:\u001b[0m\u001b[0;34m\u001b[0m\u001b[0;34m\u001b[0m\u001b[0m\n",
            "\u001b[0;32m/usr/local/lib/python3.7/dist-packages/keras/engine/training.py\u001b[0m in \u001b[0;36mfit\u001b[0;34m(self, x, y, batch_size, epochs, verbose, callbacks, validation_split, validation_data, shuffle, class_weight, sample_weight, initial_epoch, steps_per_epoch, validation_steps, validation_batch_size, validation_freq, max_queue_size, workers, use_multiprocessing)\u001b[0m\n\u001b[1;32m   1146\u001b[0m           \u001b[0muse_multiprocessing\u001b[0m\u001b[0;34m=\u001b[0m\u001b[0muse_multiprocessing\u001b[0m\u001b[0;34m,\u001b[0m\u001b[0;34m\u001b[0m\u001b[0;34m\u001b[0m\u001b[0m\n\u001b[1;32m   1147\u001b[0m           \u001b[0mmodel\u001b[0m\u001b[0;34m=\u001b[0m\u001b[0mself\u001b[0m\u001b[0;34m,\u001b[0m\u001b[0;34m\u001b[0m\u001b[0;34m\u001b[0m\u001b[0m\n\u001b[0;32m-> 1148\u001b[0;31m           steps_per_execution=self._steps_per_execution)\n\u001b[0m\u001b[1;32m   1149\u001b[0m \u001b[0;34m\u001b[0m\u001b[0m\n\u001b[1;32m   1150\u001b[0m       \u001b[0;31m# Container that configures and calls `tf.keras.Callback`s.\u001b[0m\u001b[0;34m\u001b[0m\u001b[0;34m\u001b[0m\u001b[0;34m\u001b[0m\u001b[0m\n",
            "\u001b[0;32m/usr/local/lib/python3.7/dist-packages/keras/engine/data_adapter.py\u001b[0m in \u001b[0;36mget_data_handler\u001b[0;34m(*args, **kwargs)\u001b[0m\n\u001b[1;32m   1381\u001b[0m   \u001b[0;32mif\u001b[0m \u001b[0mgetattr\u001b[0m\u001b[0;34m(\u001b[0m\u001b[0mkwargs\u001b[0m\u001b[0;34m[\u001b[0m\u001b[0;34m\"model\"\u001b[0m\u001b[0;34m]\u001b[0m\u001b[0;34m,\u001b[0m \u001b[0;34m\"_cluster_coordinator\"\u001b[0m\u001b[0;34m,\u001b[0m \u001b[0;32mNone\u001b[0m\u001b[0;34m)\u001b[0m\u001b[0;34m:\u001b[0m\u001b[0;34m\u001b[0m\u001b[0;34m\u001b[0m\u001b[0m\n\u001b[1;32m   1382\u001b[0m     \u001b[0;32mreturn\u001b[0m \u001b[0m_ClusterCoordinatorDataHandler\u001b[0m\u001b[0;34m(\u001b[0m\u001b[0;34m*\u001b[0m\u001b[0margs\u001b[0m\u001b[0;34m,\u001b[0m \u001b[0;34m**\u001b[0m\u001b[0mkwargs\u001b[0m\u001b[0;34m)\u001b[0m\u001b[0;34m\u001b[0m\u001b[0;34m\u001b[0m\u001b[0m\n\u001b[0;32m-> 1383\u001b[0;31m   \u001b[0;32mreturn\u001b[0m \u001b[0mDataHandler\u001b[0m\u001b[0;34m(\u001b[0m\u001b[0;34m*\u001b[0m\u001b[0margs\u001b[0m\u001b[0;34m,\u001b[0m \u001b[0;34m**\u001b[0m\u001b[0mkwargs\u001b[0m\u001b[0;34m)\u001b[0m\u001b[0;34m\u001b[0m\u001b[0;34m\u001b[0m\u001b[0m\n\u001b[0m\u001b[1;32m   1384\u001b[0m \u001b[0;34m\u001b[0m\u001b[0m\n\u001b[1;32m   1385\u001b[0m \u001b[0;34m\u001b[0m\u001b[0m\n",
            "\u001b[0;32m/usr/local/lib/python3.7/dist-packages/keras/engine/data_adapter.py\u001b[0m in \u001b[0;36m__init__\u001b[0;34m(self, x, y, sample_weight, batch_size, steps_per_epoch, initial_epoch, epochs, shuffle, class_weight, max_queue_size, workers, use_multiprocessing, model, steps_per_execution, distribute)\u001b[0m\n\u001b[1;32m   1148\u001b[0m         \u001b[0muse_multiprocessing\u001b[0m\u001b[0;34m=\u001b[0m\u001b[0muse_multiprocessing\u001b[0m\u001b[0;34m,\u001b[0m\u001b[0;34m\u001b[0m\u001b[0;34m\u001b[0m\u001b[0m\n\u001b[1;32m   1149\u001b[0m         \u001b[0mdistribution_strategy\u001b[0m\u001b[0;34m=\u001b[0m\u001b[0mtf\u001b[0m\u001b[0;34m.\u001b[0m\u001b[0mdistribute\u001b[0m\u001b[0;34m.\u001b[0m\u001b[0mget_strategy\u001b[0m\u001b[0;34m(\u001b[0m\u001b[0;34m)\u001b[0m\u001b[0;34m,\u001b[0m\u001b[0;34m\u001b[0m\u001b[0;34m\u001b[0m\u001b[0m\n\u001b[0;32m-> 1150\u001b[0;31m         model=model)\n\u001b[0m\u001b[1;32m   1151\u001b[0m \u001b[0;34m\u001b[0m\u001b[0m\n\u001b[1;32m   1152\u001b[0m     \u001b[0mstrategy\u001b[0m \u001b[0;34m=\u001b[0m \u001b[0mtf\u001b[0m\u001b[0;34m.\u001b[0m\u001b[0mdistribute\u001b[0m\u001b[0;34m.\u001b[0m\u001b[0mget_strategy\u001b[0m\u001b[0;34m(\u001b[0m\u001b[0;34m)\u001b[0m\u001b[0;34m\u001b[0m\u001b[0;34m\u001b[0m\u001b[0m\n",
            "\u001b[0;32m/usr/local/lib/python3.7/dist-packages/keras/engine/data_adapter.py\u001b[0m in \u001b[0;36m__init__\u001b[0;34m(self, x, y, sample_weights, sample_weight_modes, batch_size, shuffle, **kwargs)\u001b[0m\n\u001b[1;32m    663\u001b[0m         \u001b[0mbatch_size\u001b[0m\u001b[0;34m=\u001b[0m\u001b[0mbatch_size\u001b[0m\u001b[0;34m,\u001b[0m\u001b[0;34m\u001b[0m\u001b[0;34m\u001b[0m\u001b[0m\n\u001b[1;32m    664\u001b[0m         \u001b[0mshuffle\u001b[0m\u001b[0;34m=\u001b[0m\u001b[0mshuffle\u001b[0m\u001b[0;34m,\u001b[0m\u001b[0;34m\u001b[0m\u001b[0;34m\u001b[0m\u001b[0m\n\u001b[0;32m--> 665\u001b[0;31m         **kwargs)\n\u001b[0m\u001b[1;32m    666\u001b[0m \u001b[0;34m\u001b[0m\u001b[0m\n\u001b[1;32m    667\u001b[0m   \u001b[0;32mdef\u001b[0m \u001b[0mget_dataset\u001b[0m\u001b[0;34m(\u001b[0m\u001b[0mself\u001b[0m\u001b[0;34m)\u001b[0m\u001b[0;34m:\u001b[0m\u001b[0;34m\u001b[0m\u001b[0;34m\u001b[0m\u001b[0m\n",
            "\u001b[0;32m/usr/local/lib/python3.7/dist-packages/keras/engine/data_adapter.py\u001b[0m in \u001b[0;36m__init__\u001b[0;34m(self, x, y, sample_weights, sample_weight_modes, batch_size, epochs, steps, shuffle, **kwargs)\u001b[0m\n\u001b[1;32m    320\u001b[0m     \u001b[0mindices_dataset\u001b[0m \u001b[0;34m=\u001b[0m \u001b[0mindices_dataset\u001b[0m\u001b[0;34m.\u001b[0m\u001b[0mflat_map\u001b[0m\u001b[0;34m(\u001b[0m\u001b[0mslice_batch_indices\u001b[0m\u001b[0;34m)\u001b[0m\u001b[0;34m\u001b[0m\u001b[0;34m\u001b[0m\u001b[0m\n\u001b[1;32m    321\u001b[0m \u001b[0;34m\u001b[0m\u001b[0m\n\u001b[0;32m--> 322\u001b[0;31m     \u001b[0mdataset\u001b[0m \u001b[0;34m=\u001b[0m \u001b[0mself\u001b[0m\u001b[0;34m.\u001b[0m\u001b[0mslice_inputs\u001b[0m\u001b[0;34m(\u001b[0m\u001b[0mindices_dataset\u001b[0m\u001b[0;34m,\u001b[0m \u001b[0minputs\u001b[0m\u001b[0;34m)\u001b[0m\u001b[0;34m\u001b[0m\u001b[0;34m\u001b[0m\u001b[0m\n\u001b[0m\u001b[1;32m    323\u001b[0m \u001b[0;34m\u001b[0m\u001b[0m\n\u001b[1;32m    324\u001b[0m     \u001b[0;32mif\u001b[0m \u001b[0mshuffle\u001b[0m \u001b[0;34m==\u001b[0m \u001b[0;34m\"batch\"\u001b[0m\u001b[0;34m:\u001b[0m\u001b[0;34m\u001b[0m\u001b[0;34m\u001b[0m\u001b[0m\n",
            "\u001b[0;32m/usr/local/lib/python3.7/dist-packages/keras/engine/data_adapter.py\u001b[0m in \u001b[0;36mslice_inputs\u001b[0;34m(self, indices_dataset, inputs)\u001b[0m\n\u001b[1;32m    353\u001b[0m \u001b[0;34m\u001b[0m\u001b[0m\n\u001b[1;32m    354\u001b[0m     dataset = dataset.map(\n\u001b[0;32m--> 355\u001b[0;31m         grab_batch, num_parallel_calls=tf.data.AUTOTUNE)\n\u001b[0m\u001b[1;32m    356\u001b[0m \u001b[0;34m\u001b[0m\u001b[0m\n\u001b[1;32m    357\u001b[0m     \u001b[0;31m# Default optimizations are disabled to avoid the overhead of (unnecessary)\u001b[0m\u001b[0;34m\u001b[0m\u001b[0;34m\u001b[0m\u001b[0;34m\u001b[0m\u001b[0m\n",
            "\u001b[0;32m/usr/local/lib/python3.7/dist-packages/tensorflow/python/data/ops/dataset_ops.py\u001b[0m in \u001b[0;36mmap\u001b[0;34m(self, map_func, num_parallel_calls, deterministic)\u001b[0m\n\u001b[1;32m   1866\u001b[0m           \u001b[0mnum_parallel_calls\u001b[0m\u001b[0;34m,\u001b[0m\u001b[0;34m\u001b[0m\u001b[0;34m\u001b[0m\u001b[0m\n\u001b[1;32m   1867\u001b[0m           \u001b[0mdeterministic\u001b[0m\u001b[0;34m,\u001b[0m\u001b[0;34m\u001b[0m\u001b[0;34m\u001b[0m\u001b[0m\n\u001b[0;32m-> 1868\u001b[0;31m           preserve_cardinality=True)\n\u001b[0m\u001b[1;32m   1869\u001b[0m \u001b[0;34m\u001b[0m\u001b[0m\n\u001b[1;32m   1870\u001b[0m   \u001b[0;32mdef\u001b[0m \u001b[0mflat_map\u001b[0m\u001b[0;34m(\u001b[0m\u001b[0mself\u001b[0m\u001b[0;34m,\u001b[0m \u001b[0mmap_func\u001b[0m\u001b[0;34m)\u001b[0m\u001b[0;34m:\u001b[0m\u001b[0;34m\u001b[0m\u001b[0;34m\u001b[0m\u001b[0m\n",
            "\u001b[0;32m/usr/local/lib/python3.7/dist-packages/tensorflow/python/data/ops/dataset_ops.py\u001b[0m in \u001b[0;36m__init__\u001b[0;34m(self, input_dataset, map_func, num_parallel_calls, deterministic, use_inter_op_parallelism, preserve_cardinality, use_legacy_function)\u001b[0m\n\u001b[1;32m   5022\u001b[0m         \u001b[0mself\u001b[0m\u001b[0;34m.\u001b[0m\u001b[0m_transformation_name\u001b[0m\u001b[0;34m(\u001b[0m\u001b[0;34m)\u001b[0m\u001b[0;34m,\u001b[0m\u001b[0;34m\u001b[0m\u001b[0;34m\u001b[0m\u001b[0m\n\u001b[1;32m   5023\u001b[0m         \u001b[0mdataset\u001b[0m\u001b[0;34m=\u001b[0m\u001b[0minput_dataset\u001b[0m\u001b[0;34m,\u001b[0m\u001b[0;34m\u001b[0m\u001b[0;34m\u001b[0m\u001b[0m\n\u001b[0;32m-> 5024\u001b[0;31m         use_legacy_function=use_legacy_function)\n\u001b[0m\u001b[1;32m   5025\u001b[0m     \u001b[0;32mif\u001b[0m \u001b[0mdeterministic\u001b[0m \u001b[0;32mis\u001b[0m \u001b[0;32mNone\u001b[0m\u001b[0;34m:\u001b[0m\u001b[0;34m\u001b[0m\u001b[0;34m\u001b[0m\u001b[0m\n\u001b[1;32m   5026\u001b[0m       \u001b[0mself\u001b[0m\u001b[0;34m.\u001b[0m\u001b[0m_deterministic\u001b[0m \u001b[0;34m=\u001b[0m \u001b[0;34m\"default\"\u001b[0m\u001b[0;34m\u001b[0m\u001b[0;34m\u001b[0m\u001b[0m\n",
            "\u001b[0;32m/usr/local/lib/python3.7/dist-packages/tensorflow/python/data/ops/dataset_ops.py\u001b[0m in \u001b[0;36m__init__\u001b[0;34m(self, func, transformation_name, dataset, input_classes, input_shapes, input_types, input_structure, add_to_graph, use_legacy_function, defun_kwargs)\u001b[0m\n\u001b[1;32m   4216\u001b[0m         \u001b[0mfn_factory\u001b[0m \u001b[0;34m=\u001b[0m \u001b[0mtrace_tf_function\u001b[0m\u001b[0;34m(\u001b[0m\u001b[0mdefun_kwargs\u001b[0m\u001b[0;34m)\u001b[0m\u001b[0;34m\u001b[0m\u001b[0;34m\u001b[0m\u001b[0m\n\u001b[1;32m   4217\u001b[0m \u001b[0;34m\u001b[0m\u001b[0m\n\u001b[0;32m-> 4218\u001b[0;31m     \u001b[0mself\u001b[0m\u001b[0;34m.\u001b[0m\u001b[0m_function\u001b[0m \u001b[0;34m=\u001b[0m \u001b[0mfn_factory\u001b[0m\u001b[0;34m(\u001b[0m\u001b[0;34m)\u001b[0m\u001b[0;34m\u001b[0m\u001b[0;34m\u001b[0m\u001b[0m\n\u001b[0m\u001b[1;32m   4219\u001b[0m     \u001b[0;31m# There is no graph to add in eager mode.\u001b[0m\u001b[0;34m\u001b[0m\u001b[0;34m\u001b[0m\u001b[0;34m\u001b[0m\u001b[0m\n\u001b[1;32m   4220\u001b[0m     \u001b[0madd_to_graph\u001b[0m \u001b[0;34m&=\u001b[0m \u001b[0;32mnot\u001b[0m \u001b[0mcontext\u001b[0m\u001b[0;34m.\u001b[0m\u001b[0mexecuting_eagerly\u001b[0m\u001b[0;34m(\u001b[0m\u001b[0;34m)\u001b[0m\u001b[0;34m\u001b[0m\u001b[0;34m\u001b[0m\u001b[0m\n",
            "\u001b[0;32m/usr/local/lib/python3.7/dist-packages/tensorflow/python/eager/function.py\u001b[0m in \u001b[0;36mget_concrete_function\u001b[0;34m(self, *args, **kwargs)\u001b[0m\n\u001b[1;32m   3149\u001b[0m     \"\"\"\n\u001b[1;32m   3150\u001b[0m     graph_function = self._get_concrete_function_garbage_collected(\n\u001b[0;32m-> 3151\u001b[0;31m         *args, **kwargs)\n\u001b[0m\u001b[1;32m   3152\u001b[0m     \u001b[0mgraph_function\u001b[0m\u001b[0;34m.\u001b[0m\u001b[0m_garbage_collector\u001b[0m\u001b[0;34m.\u001b[0m\u001b[0mrelease\u001b[0m\u001b[0;34m(\u001b[0m\u001b[0;34m)\u001b[0m  \u001b[0;31m# pylint: disable=protected-access\u001b[0m\u001b[0;34m\u001b[0m\u001b[0;34m\u001b[0m\u001b[0m\n\u001b[1;32m   3153\u001b[0m     \u001b[0;32mreturn\u001b[0m \u001b[0mgraph_function\u001b[0m\u001b[0;34m\u001b[0m\u001b[0;34m\u001b[0m\u001b[0m\n",
            "\u001b[0;32m/usr/local/lib/python3.7/dist-packages/tensorflow/python/eager/function.py\u001b[0m in \u001b[0;36m_get_concrete_function_garbage_collected\u001b[0;34m(self, *args, **kwargs)\u001b[0m\n\u001b[1;32m   3114\u001b[0m       \u001b[0margs\u001b[0m\u001b[0;34m,\u001b[0m \u001b[0mkwargs\u001b[0m \u001b[0;34m=\u001b[0m \u001b[0;32mNone\u001b[0m\u001b[0;34m,\u001b[0m \u001b[0;32mNone\u001b[0m\u001b[0;34m\u001b[0m\u001b[0;34m\u001b[0m\u001b[0m\n\u001b[1;32m   3115\u001b[0m     \u001b[0;32mwith\u001b[0m \u001b[0mself\u001b[0m\u001b[0;34m.\u001b[0m\u001b[0m_lock\u001b[0m\u001b[0;34m:\u001b[0m\u001b[0;34m\u001b[0m\u001b[0;34m\u001b[0m\u001b[0m\n\u001b[0;32m-> 3116\u001b[0;31m       \u001b[0mgraph_function\u001b[0m\u001b[0;34m,\u001b[0m \u001b[0m_\u001b[0m \u001b[0;34m=\u001b[0m \u001b[0mself\u001b[0m\u001b[0;34m.\u001b[0m\u001b[0m_maybe_define_function\u001b[0m\u001b[0;34m(\u001b[0m\u001b[0margs\u001b[0m\u001b[0;34m,\u001b[0m \u001b[0mkwargs\u001b[0m\u001b[0;34m)\u001b[0m\u001b[0;34m\u001b[0m\u001b[0;34m\u001b[0m\u001b[0m\n\u001b[0m\u001b[1;32m   3117\u001b[0m       \u001b[0mseen_names\u001b[0m \u001b[0;34m=\u001b[0m \u001b[0mset\u001b[0m\u001b[0;34m(\u001b[0m\u001b[0;34m)\u001b[0m\u001b[0;34m\u001b[0m\u001b[0;34m\u001b[0m\u001b[0m\n\u001b[1;32m   3118\u001b[0m       captured = object_identity.ObjectIdentitySet(\n",
            "\u001b[0;32m/usr/local/lib/python3.7/dist-packages/tensorflow/python/eager/function.py\u001b[0m in \u001b[0;36m_maybe_define_function\u001b[0;34m(self, args, kwargs)\u001b[0m\n\u001b[1;32m   3461\u001b[0m \u001b[0;34m\u001b[0m\u001b[0m\n\u001b[1;32m   3462\u001b[0m           \u001b[0mself\u001b[0m\u001b[0;34m.\u001b[0m\u001b[0m_function_cache\u001b[0m\u001b[0;34m.\u001b[0m\u001b[0mmissed\u001b[0m\u001b[0;34m.\u001b[0m\u001b[0madd\u001b[0m\u001b[0;34m(\u001b[0m\u001b[0mcall_context_key\u001b[0m\u001b[0;34m)\u001b[0m\u001b[0;34m\u001b[0m\u001b[0;34m\u001b[0m\u001b[0m\n\u001b[0;32m-> 3463\u001b[0;31m           \u001b[0mgraph_function\u001b[0m \u001b[0;34m=\u001b[0m \u001b[0mself\u001b[0m\u001b[0;34m.\u001b[0m\u001b[0m_create_graph_function\u001b[0m\u001b[0;34m(\u001b[0m\u001b[0margs\u001b[0m\u001b[0;34m,\u001b[0m \u001b[0mkwargs\u001b[0m\u001b[0;34m)\u001b[0m\u001b[0;34m\u001b[0m\u001b[0;34m\u001b[0m\u001b[0m\n\u001b[0m\u001b[1;32m   3464\u001b[0m           \u001b[0mself\u001b[0m\u001b[0;34m.\u001b[0m\u001b[0m_function_cache\u001b[0m\u001b[0;34m.\u001b[0m\u001b[0mprimary\u001b[0m\u001b[0;34m[\u001b[0m\u001b[0mcache_key\u001b[0m\u001b[0;34m]\u001b[0m \u001b[0;34m=\u001b[0m \u001b[0mgraph_function\u001b[0m\u001b[0;34m\u001b[0m\u001b[0;34m\u001b[0m\u001b[0m\n\u001b[1;32m   3465\u001b[0m \u001b[0;34m\u001b[0m\u001b[0m\n",
            "\u001b[0;32m/usr/local/lib/python3.7/dist-packages/tensorflow/python/eager/function.py\u001b[0m in \u001b[0;36m_create_graph_function\u001b[0;34m(self, args, kwargs, override_flat_arg_shapes)\u001b[0m\n\u001b[1;32m   3306\u001b[0m             \u001b[0marg_names\u001b[0m\u001b[0;34m=\u001b[0m\u001b[0marg_names\u001b[0m\u001b[0;34m,\u001b[0m\u001b[0;34m\u001b[0m\u001b[0;34m\u001b[0m\u001b[0m\n\u001b[1;32m   3307\u001b[0m             \u001b[0moverride_flat_arg_shapes\u001b[0m\u001b[0;34m=\u001b[0m\u001b[0moverride_flat_arg_shapes\u001b[0m\u001b[0;34m,\u001b[0m\u001b[0;34m\u001b[0m\u001b[0;34m\u001b[0m\u001b[0m\n\u001b[0;32m-> 3308\u001b[0;31m             capture_by_value=self._capture_by_value),\n\u001b[0m\u001b[1;32m   3309\u001b[0m         \u001b[0mself\u001b[0m\u001b[0;34m.\u001b[0m\u001b[0m_function_attributes\u001b[0m\u001b[0;34m,\u001b[0m\u001b[0;34m\u001b[0m\u001b[0;34m\u001b[0m\u001b[0m\n\u001b[1;32m   3310\u001b[0m         \u001b[0mfunction_spec\u001b[0m\u001b[0;34m=\u001b[0m\u001b[0mself\u001b[0m\u001b[0;34m.\u001b[0m\u001b[0mfunction_spec\u001b[0m\u001b[0;34m,\u001b[0m\u001b[0;34m\u001b[0m\u001b[0;34m\u001b[0m\u001b[0m\n",
            "\u001b[0;32m/usr/local/lib/python3.7/dist-packages/tensorflow/python/framework/func_graph.py\u001b[0m in \u001b[0;36mfunc_graph_from_py_func\u001b[0;34m(name, python_func, args, kwargs, signature, func_graph, autograph, autograph_options, add_control_dependencies, arg_names, op_return_value, collections, capture_by_value, override_flat_arg_shapes, acd_record_initial_resource_uses)\u001b[0m\n\u001b[1;32m   1005\u001b[0m         \u001b[0m_\u001b[0m\u001b[0;34m,\u001b[0m \u001b[0moriginal_func\u001b[0m \u001b[0;34m=\u001b[0m \u001b[0mtf_decorator\u001b[0m\u001b[0;34m.\u001b[0m\u001b[0munwrap\u001b[0m\u001b[0;34m(\u001b[0m\u001b[0mpython_func\u001b[0m\u001b[0;34m)\u001b[0m\u001b[0;34m\u001b[0m\u001b[0;34m\u001b[0m\u001b[0m\n\u001b[1;32m   1006\u001b[0m \u001b[0;34m\u001b[0m\u001b[0m\n\u001b[0;32m-> 1007\u001b[0;31m       \u001b[0mfunc_outputs\u001b[0m \u001b[0;34m=\u001b[0m \u001b[0mpython_func\u001b[0m\u001b[0;34m(\u001b[0m\u001b[0;34m*\u001b[0m\u001b[0mfunc_args\u001b[0m\u001b[0;34m,\u001b[0m \u001b[0;34m**\u001b[0m\u001b[0mfunc_kwargs\u001b[0m\u001b[0;34m)\u001b[0m\u001b[0;34m\u001b[0m\u001b[0;34m\u001b[0m\u001b[0m\n\u001b[0m\u001b[1;32m   1008\u001b[0m \u001b[0;34m\u001b[0m\u001b[0m\n\u001b[1;32m   1009\u001b[0m       \u001b[0;31m# invariant: `func_outputs` contains only Tensors, CompositeTensors,\u001b[0m\u001b[0;34m\u001b[0m\u001b[0;34m\u001b[0m\u001b[0;34m\u001b[0m\u001b[0m\n",
            "\u001b[0;32m/usr/local/lib/python3.7/dist-packages/tensorflow/python/data/ops/dataset_ops.py\u001b[0m in \u001b[0;36mwrapped_fn\u001b[0;34m(*args)\u001b[0m\n\u001b[1;32m   4193\u001b[0m           attributes=defun_kwargs)\n\u001b[1;32m   4194\u001b[0m       \u001b[0;32mdef\u001b[0m \u001b[0mwrapped_fn\u001b[0m\u001b[0;34m(\u001b[0m\u001b[0;34m*\u001b[0m\u001b[0margs\u001b[0m\u001b[0;34m)\u001b[0m\u001b[0;34m:\u001b[0m  \u001b[0;31m# pylint: disable=missing-docstring\u001b[0m\u001b[0;34m\u001b[0m\u001b[0;34m\u001b[0m\u001b[0m\n\u001b[0;32m-> 4195\u001b[0;31m         \u001b[0mret\u001b[0m \u001b[0;34m=\u001b[0m \u001b[0mwrapper_helper\u001b[0m\u001b[0;34m(\u001b[0m\u001b[0;34m*\u001b[0m\u001b[0margs\u001b[0m\u001b[0;34m)\u001b[0m\u001b[0;34m\u001b[0m\u001b[0;34m\u001b[0m\u001b[0m\n\u001b[0m\u001b[1;32m   4196\u001b[0m         \u001b[0mret\u001b[0m \u001b[0;34m=\u001b[0m \u001b[0mstructure\u001b[0m\u001b[0;34m.\u001b[0m\u001b[0mto_tensor_list\u001b[0m\u001b[0;34m(\u001b[0m\u001b[0mself\u001b[0m\u001b[0;34m.\u001b[0m\u001b[0m_output_structure\u001b[0m\u001b[0;34m,\u001b[0m \u001b[0mret\u001b[0m\u001b[0;34m)\u001b[0m\u001b[0;34m\u001b[0m\u001b[0;34m\u001b[0m\u001b[0m\n\u001b[1;32m   4197\u001b[0m         \u001b[0;32mreturn\u001b[0m \u001b[0;34m[\u001b[0m\u001b[0mops\u001b[0m\u001b[0;34m.\u001b[0m\u001b[0mconvert_to_tensor\u001b[0m\u001b[0;34m(\u001b[0m\u001b[0mt\u001b[0m\u001b[0;34m)\u001b[0m \u001b[0;32mfor\u001b[0m \u001b[0mt\u001b[0m \u001b[0;32min\u001b[0m \u001b[0mret\u001b[0m\u001b[0;34m]\u001b[0m\u001b[0;34m\u001b[0m\u001b[0;34m\u001b[0m\u001b[0m\n",
            "\u001b[0;32m/usr/local/lib/python3.7/dist-packages/tensorflow/python/data/ops/dataset_ops.py\u001b[0m in \u001b[0;36mwrapper_helper\u001b[0;34m(*args)\u001b[0m\n\u001b[1;32m   4128\u001b[0m \u001b[0;34m\u001b[0m\u001b[0m\n\u001b[1;32m   4129\u001b[0m       \u001b[0;32mtry\u001b[0m\u001b[0;34m:\u001b[0m\u001b[0;34m\u001b[0m\u001b[0;34m\u001b[0m\u001b[0m\n\u001b[0;32m-> 4130\u001b[0;31m         \u001b[0mself\u001b[0m\u001b[0;34m.\u001b[0m\u001b[0m_output_structure\u001b[0m \u001b[0;34m=\u001b[0m \u001b[0mstructure\u001b[0m\u001b[0;34m.\u001b[0m\u001b[0mtype_spec_from_value\u001b[0m\u001b[0;34m(\u001b[0m\u001b[0mret\u001b[0m\u001b[0;34m)\u001b[0m\u001b[0;34m\u001b[0m\u001b[0;34m\u001b[0m\u001b[0m\n\u001b[0m\u001b[1;32m   4131\u001b[0m       \u001b[0;32mexcept\u001b[0m \u001b[0;34m(\u001b[0m\u001b[0mValueError\u001b[0m\u001b[0;34m,\u001b[0m \u001b[0mTypeError\u001b[0m\u001b[0;34m)\u001b[0m\u001b[0;34m:\u001b[0m\u001b[0;34m\u001b[0m\u001b[0;34m\u001b[0m\u001b[0m\n\u001b[1;32m   4132\u001b[0m         six.reraise(\n",
            "\u001b[0;32m/usr/local/lib/python3.7/dist-packages/tensorflow/python/data/util/structure.py\u001b[0m in \u001b[0;36mtype_spec_from_value\u001b[0;34m(element, use_fallback)\u001b[0m\n\u001b[1;32m    435\u001b[0m       \u001b[0;32mis\u001b[0m \u001b[0;32mnot\u001b[0m \u001b[0msupported\u001b[0m\u001b[0;34m.\u001b[0m\u001b[0;34m\u001b[0m\u001b[0;34m\u001b[0m\u001b[0m\n\u001b[1;32m    436\u001b[0m   \"\"\"\n\u001b[0;32m--> 437\u001b[0;31m   \u001b[0mspec\u001b[0m \u001b[0;34m=\u001b[0m \u001b[0mtype_spec\u001b[0m\u001b[0;34m.\u001b[0m\u001b[0m_type_spec_from_value\u001b[0m\u001b[0;34m(\u001b[0m\u001b[0melement\u001b[0m\u001b[0;34m)\u001b[0m  \u001b[0;31m# pylint: disable=protected-access\u001b[0m\u001b[0;34m\u001b[0m\u001b[0;34m\u001b[0m\u001b[0m\n\u001b[0m\u001b[1;32m    438\u001b[0m   \u001b[0;32mif\u001b[0m \u001b[0mspec\u001b[0m \u001b[0;32mis\u001b[0m \u001b[0;32mnot\u001b[0m \u001b[0;32mNone\u001b[0m\u001b[0;34m:\u001b[0m\u001b[0;34m\u001b[0m\u001b[0;34m\u001b[0m\u001b[0m\n\u001b[1;32m    439\u001b[0m     \u001b[0;32mreturn\u001b[0m \u001b[0mspec\u001b[0m\u001b[0;34m\u001b[0m\u001b[0;34m\u001b[0m\u001b[0m\n",
            "\u001b[0;32m/usr/local/lib/python3.7/dist-packages/tensorflow/python/framework/type_spec.py\u001b[0m in \u001b[0;36m_type_spec_from_value\u001b[0;34m(value)\u001b[0m\n\u001b[1;32m    635\u001b[0m         \u001b[0;32mpass\u001b[0m  \u001b[0;31m# incompatible subspecs\u001b[0m\u001b[0;34m\u001b[0m\u001b[0;34m\u001b[0m\u001b[0m\n\u001b[1;32m    636\u001b[0m \u001b[0;34m\u001b[0m\u001b[0m\n\u001b[0;32m--> 637\u001b[0;31m   \u001b[0;32mfor\u001b[0m \u001b[0mentry\u001b[0m \u001b[0;32min\u001b[0m \u001b[0mreversed\u001b[0m\u001b[0;34m(\u001b[0m\u001b[0m_TYPE_CONVERSION_FUNCTION_REGISTRY\u001b[0m\u001b[0;34m)\u001b[0m\u001b[0;34m:\u001b[0m\u001b[0;34m\u001b[0m\u001b[0;34m\u001b[0m\u001b[0m\n\u001b[0m\u001b[1;32m    638\u001b[0m     \u001b[0mtype_object\u001b[0m\u001b[0;34m,\u001b[0m \u001b[0mconverter_fn\u001b[0m\u001b[0;34m,\u001b[0m \u001b[0mallow_subclass\u001b[0m \u001b[0;34m=\u001b[0m \u001b[0mentry\u001b[0m\u001b[0;34m\u001b[0m\u001b[0;34m\u001b[0m\u001b[0m\n\u001b[1;32m    639\u001b[0m     if ((type(value) is type_object) or  # pylint: disable=unidiomatic-typecheck\n",
            "\u001b[0;31mKeyboardInterrupt\u001b[0m: "
          ]
        }
      ]
    },
    {
      "cell_type": "code",
      "metadata": {
        "colab": {
          "base_uri": "https://localhost:8080/"
        },
        "id": "I5LdfvvvmqUU",
        "outputId": "339f7d95-1986-43e2-d24a-a2632aa468ba"
      },
      "source": [
        "#test giving a prediction value to an input\n",
        "testS = [\"Generally I like the hotel and will come back\",\n",
        "         \"It's a small hotel\",\n",
        "         \"The room is nice, clean and suitable for a nice stay however\",\n",
        "         \"It's one of the best in the area\"]\n",
        "pNet.predict(testS)"
      ],
      "execution_count": null,
      "outputs": [
        {
          "output_type": "execute_result",
          "data": {
            "text/plain": [
              "array([0.7113554], dtype=float32)"
            ]
          },
          "metadata": {},
          "execution_count": 31
        }
      ]
    },
    {
      "cell_type": "markdown",
      "metadata": {
        "id": "FNRzk6QeGQcj"
      },
      "source": [
        "# Show the prototypes"
      ]
    },
    {
      "cell_type": "code",
      "metadata": {
        "id": "DkWiiOUlQLtt",
        "colab": {
          "base_uri": "https://localhost:8080/"
        },
        "outputId": "6b7121e2-1eb8-4386-9975-5829b252456e"
      },
      "source": [
        "#show the list of prototypes\n",
        "pNet.showPrototypes(sample_sentences,sample_sent_vect)"
      ],
      "execution_count": null,
      "outputs": [
        {
          "output_type": "stream",
          "text": [
            "[db] p_count =  0\n",
            "[db] p_count =  1\n",
            "[db] p_count =  2\n",
            "[db] p_count =  3\n",
            "[db] p_count =  4\n",
            "[db] p_count =  5\n",
            "[db] p_count =  6\n",
            "[db] p_count =  7\n",
            "[db] p_count =  8\n",
            "[db] p_count =  9\n",
            "Prototypes: \n",
            "Overall I was very happy with the hotel and would definitely stay here again\n",
            "We were only in the solamar hotel for 2 days but it was one of the best hotel stays we've ever had\n",
            "It was my first stay in a kimpton hotel and now I don't want to stay anywhere else\n",
            "Was a small hotel which was fine for us\n",
            "I would have given this hotel a 5 star but we didn't like the parking situation\n",
            "I am glad you enjoyed your stay and look forward to have you back\n",
            "The only good thing was it's location and price but I guess you get what you pay for\n",
            "We were only in the solamar hotel for 2 days but it was one of the best hotel stays we've ever had\n",
            "My only complaint was that the room was somewhat small for a hotel of this quality\n",
            "The Hotel had a nice room, Clean, and everything you needed to just have a nice stay\n"
          ],
          "name": "stdout"
        }
      ]
    },
    {
      "cell_type": "code",
      "metadata": {
        "colab": {
          "base_uri": "https://localhost:8080/"
        },
        "id": "_A4M0gTom8Y9",
        "outputId": "f3a54ce2-58a1-48f3-e8ba-dda0b4c91889"
      },
      "source": [
        "#the number of closest sentences to each prototypes\n",
        "pNet.protoFreq(sample_sent_vect)"
      ],
      "execution_count": null,
      "outputs": [
        {
          "output_type": "stream",
          "text": [
            "Prototype freq =  {0: 910, 1: 1128, 2: 1781, 3: 1585, 4: 1192, 5: 1737, 6: 888, 7: 0, 8: 1729, 9: 797}\n",
            "sorted : [(2, 1781), (5, 1737), (8, 1729), (3, 1585), (4, 1192), (1, 1128), (0, 910), (6, 888), (9, 797), (7, 0)]\n"
          ],
          "name": "stdout"
        }
      ]
    },
    {
      "cell_type": "code",
      "metadata": {
        "colab": {
          "base_uri": "https://localhost:8080/"
        },
        "id": "kKVv_vHyB8YQ",
        "outputId": "0d121dc2-122c-425c-8c13-1ab004e80285"
      },
      "source": [
        "#list of prototypes\n",
        "pNet.mappedPrototypes"
      ],
      "execution_count": null,
      "outputs": [
        {
          "output_type": "execute_result",
          "data": {
            "text/plain": [
              "{0: 'Overall I was very happy with the hotel and would definitely stay here again',\n",
              " 1: \"We were only in the solamar hotel for 2 days but it was one of the best hotel stays we've ever had\",\n",
              " 2: \"It was my first stay in a kimpton hotel and now I don't want to stay anywhere else\",\n",
              " 3: 'Was a small hotel which was fine for us',\n",
              " 4: \"I would have given this hotel a 5 star but we didn't like the parking situation\",\n",
              " 5: 'I am glad you enjoyed your stay and look forward to have you back',\n",
              " 6: \"The only good thing was it's location and price but I guess you get what you pay for\",\n",
              " 7: \"We were only in the solamar hotel for 2 days but it was one of the best hotel stays we've ever had\",\n",
              " 8: 'My only complaint was that the room was somewhat small for a hotel of this quality',\n",
              " 9: 'The Hotel had a nice room, Clean, and everything you needed to just have a nice stay'}"
            ]
          },
          "metadata": {},
          "execution_count": 19
        }
      ]
    },
    {
      "cell_type": "code",
      "metadata": {
        "colab": {
          "base_uri": "https://localhost:8080/"
        },
        "id": "8y5ZVO6tVq9g",
        "outputId": "256d9005-44c0-46d0-d74f-0438e5f2c080"
      },
      "source": [
        "#testing generating prototype trajectory. \"scores\" stores the sentiment scores of the mapped prototypes\n",
        "testS = [\"Generally I like the hotel and will come back\",\n",
        "         \"It's a small hotel\",\n",
        "         \"The room is nice, clean and suitable for a nice stay however\",\n",
        "         \"It's one of the best in the area\"]\n",
        "scores = pNet.showTrajectory(testS,sample_sentences,sample_sent_vect)\n",
        "print(scores)"
      ],
      "execution_count": null,
      "outputs": [
        {
          "output_type": "stream",
          "text": [
            "[db] mappedProtos  ['Overall I was very happy with the hotel and would definitely stay here again', 'Was a small hotel which was fine for us', 'The Hotel had a nice room, Clean, and everything you needed to just have a nice stay', \"We were only in the solamar hotel for 2 days but it was one of the best hotel stays we've ever had\"]\n",
            "[0.88565, 0.60115, 0.9037, 0.88915]\n"
          ],
          "name": "stdout"
        }
      ]
    },
    {
      "cell_type": "code",
      "metadata": {
        "id": "iEVKQphzUqA7"
      },
      "source": [
        "def drawLines(a):\n",
        "  print(a)\n",
        "  fig = plt.figure()\n",
        "\n",
        "  plt.plot([i + 1 for i in range(len(a))], a, marker='o', color='red',\n",
        "              linewidth=2)\n",
        "  plt.ylim((0, 1.05))\n",
        "  plt.yticks(fontsize=25)\n",
        "  plt.xticks([i + 1 for i in range(len(a))], [str('S') + str(i+1) for i in range(len(a))], fontsize=25)\n",
        "  plt.show()"
      ],
      "execution_count": null,
      "outputs": []
    },
    {
      "cell_type": "code",
      "metadata": {
        "colab": {
          "base_uri": "https://localhost:8080/",
          "height": 296
        },
        "id": "nvrE5Br7IUp0",
        "outputId": "bf1cbd4d-3f63-459d-cc2e-1e471179548b"
      },
      "source": [
        "import matplotlib.pyplot as plt\n",
        "drawLines(scores)"
      ],
      "execution_count": null,
      "outputs": [
        {
          "output_type": "stream",
          "text": [
            "[0.88565, 0.60115, 0.9037, 0.88915]\n"
          ],
          "name": "stdout"
        },
        {
          "output_type": "display_data",
          "data": {
            "image/png": "[encoded data removed]",
            "text/plain": [
              "<Figure size 432x288 with 1 Axes>"
            ]
          },
          "metadata": {
            "needs_background": "light"
          }
        }
      ]
    },
    {
      "cell_type": "code",
      "metadata": {
        "id": "nwpe1zUTzRbO"
      },
      "source": [
        ""
      ],
      "execution_count": null,
      "outputs": []
    }
  ]
}